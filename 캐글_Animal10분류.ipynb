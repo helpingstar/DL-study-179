{
  "nbformat": 4,
  "nbformat_minor": 0,
  "metadata": {
    "colab": {
      "name": "캐글_Animal10분류.ipynb",
      "provenance": [],
      "mount_file_id": "1Wgy3W1YDShhkd7rh6AaPHVjKxsW2T04d",
      "authorship_tag": "ABX9TyPYjk++AdfOQNUNlcvZDVee",
      "include_colab_link": true
    },
    "kernelspec": {
      "name": "python3",
      "display_name": "Python 3"
    },
    "language_info": {
      "name": "python"
    },
    "accelerator": "GPU",
    "gpuClass": "standard"
  },
  "cells": [
    {
      "cell_type": "markdown",
      "metadata": {
        "id": "view-in-github",
        "colab_type": "text"
      },
      "source": [
        "<a href=\"https://colab.research.google.com/github/helpingstar/DL-study-179/blob/minyou/%EC%BA%90%EA%B8%80_Animal10%EB%B6%84%EB%A5%98.ipynb\" target=\"_parent\"><img src=\"https://colab.research.google.com/assets/colab-badge.svg\" alt=\"Open In Colab\"/></a>"
      ]
    },
    {
      "cell_type": "code",
      "execution_count": 45,
      "metadata": {
        "id": "lUSoscmJ8z5c"
      },
      "outputs": [],
      "source": [
        "import sys\n",
        "from google.colab import drive\n",
        "import os\n",
        "import pandas as pd\n",
        "import numpy as np\n",
        "import cv2\n",
        "import torch\n",
        "from torch import nn\n",
        "import torch.utils.data as data \n",
        "from torch.utils.data import DataLoader\n",
        "import torch.nn.functional as F\n",
        "from torchvision import datasets #sample label을 저장 \n",
        "from torchvision import transforms\n",
        "from torchvision.datasets import ImageFolder\n",
        "from torchvision.transforms import ToTensor \n",
        "from sklearn.model_selection import train_test_split\n",
        "\n",
        "\n",
        "\n",
        "#splitfolders.ratio('C:\\Users\\TDA\\Desktop\\archive\\raw-img',output=\"C: \\Users\\TDA\\Desktop\\archive\", seed = 77, ratio =(0.8,0.1,0.1))\n",
        "batch_size = 64\n",
        "\n",
        "\n",
        "\n",
        "\n"
      ]
    },
    {
      "cell_type": "code",
      "source": [
        "class ImageTransform(): #이미지 전처리 \n",
        "\n",
        "  def __init__(self, mean, std):\n",
        "    self.data_transfrom = transforms.Compose([\n",
        "          transforms.ToTensor(),\n",
        "          transforms.Normalize(mean,std)\n",
        "    ])\n",
        "\n",
        "  def __call__(self, img):\n",
        "    return self.data_transform(img)"
      ],
      "metadata": {
        "id": "ZbOwJIHzI9kY"
      },
      "execution_count": null,
      "outputs": []
    },
    {
      "cell_type": "code",
      "source": [
        "\n",
        "\n",
        "class CNN(nn.Module):\n",
        "  def __init__(self):\n",
        "    super(CNN, self).__init__()\n",
        "\n",
        "    self.layer = nn.Sequential(\n",
        "        nn.Conv2d(in_channels=1, out_channels=16, kernel_size=5),\n",
        "        nn.ReLu(),\n",
        "        nn.Conv2d(in_channesl=16, out_channels=32, kernel_size=5),\n",
        "        nn.ReLu(),\n",
        "        \n",
        "        nn.MaxPool2d(kernel_size=2, stride=2),\n",
        "\n",
        "        nn.Conv2d(in_channels=32, out_Channels=64, kernel_size=5),\n",
        "        nn.ReLu(),\n",
        "\n",
        "        nn.MaxPool2d(kernel_size=2, stride=2)\n",
        "    )\n",
        "    self.fc_layer = nn.Sequential(\n",
        "        nn.Linear(64*3*3, 100),\n",
        "        nn.ReLu(),\n",
        "        nn.Linear(100,10)\n",
        "    )\n",
        "    def forwaerd(self, x):\n",
        "      out = self.layer(x)\n",
        "      out = out.view(50, -1)\n",
        "      out = self.fc_layer(out)\n",
        "      return out"
      ],
      "metadata": {
        "id": "f7TIIHF6rSho"
      },
      "execution_count": null,
      "outputs": []
    },
    {
      "cell_type": "code",
      "source": [
        "from torchvision import models\n",
        "\n",
        "#device = torch.device(\"cuda:0\" if torch.cuda.is_available() else \"cpu\"\n",
        "\n",
        "transfer_model = models.resnet50(pretrained = True)\n",
        "#model = CNN()\n",
        "transfer_model.fc = nn.Sequential(nn.Linear(transfer_model.fc.in_features, 500), nn.ReLU(),nn.Dropout(),nn.Linear(500,10))\n",
        "\n",
        "\n",
        "#if torch.cuda.is_available():\n",
        "    #device = torch.device(\"cuda\")\n",
        "#else:\n",
        "    #device = torch.device(\"cpu\")\n",
        "\n"
      ],
      "metadata": {
        "id": "g94C_14uuRsJ"
      },
      "execution_count": 41,
      "outputs": []
    },
    {
      "cell_type": "code",
      "source": [
        "transform= transforms.Compose([transforms.RandomRotation(degrees=20),\n",
        "                        transforms.RandomHorizontalFlip(p=0.5),\n",
        "                        transforms.Resize((64, 64)), # (h, w) 순서\n",
        "                        transforms.ToTensor()])\n",
        "\n",
        "root_dir = '/content/drive/MyDrive/archive/raw-img' # 이미지의 최상위 디렉토리\n",
        "data  =ImageFolder(root_dir, transform=transform, target_transform=None)\n",
        "data_size = len(data)\n",
        "\n",
        "\n"
      ],
      "metadata": {
        "id": "HVesytGq3Pvm"
      },
      "execution_count": 42,
      "outputs": []
    },
    {
      "cell_type": "code",
      "source": [
        "train_dataset, test_dataset = train_test_split(data,test_size=0.2)\n",
        "train_dataloader = DataLoader(train_dataset, batch_size = batch_size, shuffle=True,num_workers=2)\n",
        "test_dataloader = DataLoader(test_dataset, batch_size = batch_size, shuffle = True, num_workers=2)"
      ],
      "metadata": {
        "id": "dovZCt9N4huP"
      },
      "execution_count": null,
      "outputs": []
    },
    {
      "cell_type": "code",
      "source": [
        "model = transfer_model\n",
        "#model.to(device)\n",
        "loss_func = nn.CrossEntropyLoss()\n",
        "optimizer = torch.optim.Adam(transfer_model.parameters(), lr=0.003)\n",
        "epochs=1\n",
        "loss_lst = []\n",
        "\n",
        "for epoch in range(epochs):\n",
        "  \n",
        "  training_loss = 0.0\n",
        "  valid_loss = 0.0\n",
        "  model.train()\n",
        "  for batch in train_dataloader:\n",
        "    optimizer.zero_grad()\n",
        "    inputs, target = batch\n",
        "    #inputs = inputs.to(device)\n",
        "    #target = target.to(device)\n",
        "    output = model(inputs)\n",
        "   \n",
        "\n",
        "    loss = loss_func(output,target)\n",
        "    loss.backward()\n",
        "    optimizer.step()\n",
        "    training_loss += loss.data.item()\n",
        "\n",
        "  loss_lst.append(training_loss)\n",
        "\n",
        "  model.eval()\n",
        "  num_correct = 0\n",
        "  num_examples = 0\n",
        "  for batch in test_dataloader:\n",
        "          inputs, targets = batch\n",
        "          #inputs = inputs.to(device)\n",
        "          output = model(inputs)\n",
        "          #targets = targets.to(device)\n",
        "          loss = loss_func(output,targets)\n",
        "          valid_loss += loss.data.item()\n",
        "          correct = torch.eq(torch.max(F.softmax(output), dim=1)[1],\n",
        "                          targets).view(-1)\n",
        "          num_correct += torch.sum(correct).item()\n",
        "          num_examples += correct.shape[0]\n",
        "  loss_val_lst.append(valid_loss)\n",
        "\n",
        "  print('Epoch: {}, Training Loss: {:.2f}, \\\n",
        "  Validation Loss: {:.2f}, \\\n",
        "  accuracy = {:.2f}'.format(epoch, training_loss, \\\n",
        "  valid_loss, num_correct / num_examples))"
      ],
      "metadata": {
        "id": "-U4i-BaU1C_T"
      },
      "execution_count": null,
      "outputs": []
    },
    {
      "cell_type": "code",
      "source": [
        ""
      ],
      "metadata": {
        "id": "QsSmcZb53gkO"
      },
      "execution_count": null,
      "outputs": []
    }
  ]
}