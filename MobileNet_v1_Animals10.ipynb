{
  "cells": [
    {
      "cell_type": "markdown",
      "metadata": {
        "id": "K6iP0H48k7Ku"
      },
      "source": [
        "**Get GPU Device Name (If Available)**\n",
        "\n",
        "\n"
      ]
    },
    {
      "cell_type": "code",
      "execution_count": null,
      "metadata": {
        "colab": {
          "base_uri": "https://localhost:8080/"
        },
        "id": "wIqOe2bmkQLI",
        "outputId": "dfccf81b-2ed5-4c19-977f-83a4222275f4"
      },
      "outputs": [
        {
          "output_type": "stream",
          "name": "stdout",
          "text": [
            "GPU Device Name: Tesla P100-PCIE-16GB\n"
          ]
        }
      ],
      "source": [
        "import torch\n",
        "\n",
        "print(f'GPU Device Name: {torch.cuda.get_device_name()}')"
      ]
    },
    {
      "cell_type": "markdown",
      "metadata": {
        "id": "trViB5ilvLUH"
      },
      "source": [
        "**Mount Google Drive**"
      ]
    },
    {
      "cell_type": "code",
      "execution_count": null,
      "metadata": {
        "id": "CPoa4T-faWiJ",
        "colab": {
          "base_uri": "https://localhost:8080/"
        },
        "outputId": "112f7b81-5f38-499e-a55a-c6dc5dd737b5"
      },
      "outputs": [
        {
          "output_type": "stream",
          "name": "stdout",
          "text": [
            "Drive already mounted at /content/drive; to attempt to forcibly remount, call drive.mount(\"/content/drive\", force_remount=True).\n"
          ]
        }
      ],
      "source": [
        "from google.colab import drive\n",
        "drive.mount('/content/drive')"
      ]
    },
    {
      "cell_type": "markdown",
      "metadata": {
        "id": "sdv-8YM-vPFH"
      },
      "source": [
        "**Install Necesssary Libraries**"
      ]
    },
    {
      "cell_type": "code",
      "execution_count": null,
      "metadata": {
        "id": "2paG0dODrldS"
      },
      "outputs": [],
      "source": [
        "!pip install -q -U split-folders"
      ]
    },
    {
      "cell_type": "markdown",
      "metadata": {
        "id": "LJ0-rc64v1BN"
      },
      "source": [
        "**Import Libraries**"
      ]
    },
    {
      "cell_type": "code",
      "execution_count": null,
      "metadata": {
        "id": "Egbaov1GvgED"
      },
      "outputs": [],
      "source": [
        "import torch\n",
        "torch.cuda.empty_cache()\n",
        "import torch.nn as nn\n",
        "import torch.optim as optim\n",
        "import torch.nn.functional as F\n",
        "from torch.utils.data import Dataset, DataLoader\n",
        "import torchvision.datasets as datasets\n",
        "import torchvision.transforms as transforms\n",
        "import matplotlib.pyplot as plt\n",
        "import tensorboard as tb\n",
        "import splitfolders\n",
        "import numpy as np\n",
        "from torch.utils.tensorboard import SummaryWriter\n",
        "from torchsummary import summary\n",
        "import os"
      ]
    },
    {
      "cell_type": "markdown",
      "metadata": {
        "id": "17Q4RPP3vUmZ"
      },
      "source": [
        "**Import dataset files**"
      ]
    },
    {
      "cell_type": "code",
      "execution_count": null,
      "metadata": {
        "colab": {
          "base_uri": "https://localhost:8080/"
        },
        "id": "XQVKRKVxXHS0",
        "outputId": "ec772918-df74-4170-be4e-21e44f692a52"
      },
      "outputs": [
        {
          "output_type": "stream",
          "name": "stderr",
          "text": [
            "Copying files: 20938 files [00:03, 6586.15 files/s]\n"
          ]
        }
      ],
      "source": [
        "# unzip zip files of data from google drive\n",
        "!unzip -q \"/content/drive/MyDrive/train_data.zip\" -d \"/content\"\n",
        "!unzip -q \"/content/drive/MyDrive/test_data.zip\" -d \"/content\"\n",
        "\n",
        "# Split train data into train and val set (final result -> train:val:test = 70:10:20)\n",
        "splitfolders.ratio(\"/content/train_data/train_img\", \"/content\",\n",
        "                seed=1337, ratio=(0.875, 0.125))\n",
        "\n",
        "# create test folder and import data\n",
        "!mv \"/content/test_data/test_img\" \"/content\"\n",
        "!mv \"/content/test_img\" \"/content/test\"\n",
        "\n",
        "# remove unnecessary files\n",
        "!rm -rf \"train_data\" \"test_data\" \"sample_data\"\n",
        "!rm -rf \"/content/test/test_img\""
      ]
    },
    {
      "cell_type": "markdown",
      "metadata": {
        "id": "EpoJbeO6vrHi"
      },
      "source": [
        "**Set device (GPU or CPU)**"
      ]
    },
    {
      "cell_type": "code",
      "execution_count": null,
      "metadata": {
        "id": "XGqto6Gtvjnp"
      },
      "outputs": [],
      "source": [
        "device = torch.device('cuda' if torch.cuda.is_available() else 'cpu')"
      ]
    },
    {
      "cell_type": "markdown",
      "metadata": {
        "id": "qDx369BHM8k0"
      },
      "source": [
        "**Data Augmentation**"
      ]
    },
    {
      "cell_type": "code",
      "execution_count": null,
      "metadata": {
        "id": "Qt0eo_7wvlmG"
      },
      "outputs": [],
      "source": [
        "train_transforms = transforms.Compose(\n",
        "    [\n",
        "    transforms.CenterCrop(224),\n",
        "    transforms.ToTensor(),\n",
        "    ]\n",
        ")\n",
        "\n",
        "test_transforms = transforms.Compose(\n",
        "    [\n",
        "    transforms.CenterCrop(224),\n",
        "    transforms.ToTensor(),\n",
        "    ]\n",
        ")"
      ]
    },
    {
      "cell_type": "markdown",
      "metadata": {
        "id": "O7ZJq_YMj814"
      },
      "source": [
        "**Set Batch Size**"
      ]
    },
    {
      "cell_type": "code",
      "execution_count": null,
      "metadata": {
        "id": "maYWc1nrkBpE"
      },
      "outputs": [],
      "source": [
        "# set batch size\n",
        "batch_size = 128"
      ]
    },
    {
      "cell_type": "markdown",
      "metadata": {
        "id": "pKnOuDRvjJhh"
      },
      "source": [
        "**Load Datasets**"
      ]
    },
    {
      "cell_type": "code",
      "execution_count": null,
      "metadata": {
        "id": "f1az-jBejOc6"
      },
      "outputs": [],
      "source": [
        "# set directories for data\n",
        "TRAIN_DATA_PATH = \"/content/train\"\n",
        "VAL_DATA_PATH = \"/content/val\"\n",
        "TEST_DATA_PATH = \"/content/test\"\n",
        "\n",
        "# load data for each dataset\n",
        "train_data = datasets.ImageFolder(root = TRAIN_DATA_PATH, transform=train_transforms)\n",
        "train_data_loader = DataLoader(train_data, batch_size=batch_size, shuffle=True, num_workers=4, pin_memory=True)\n",
        "\n",
        "val_data = datasets.ImageFolder(root = VAL_DATA_PATH, transform=test_transforms)\n",
        "val_data_loader = DataLoader(val_data, batch_size=batch_size, shuffle=True, num_workers=4, pin_memory=True)\n",
        "\n",
        "test_data = datasets.ImageFolder(root = TEST_DATA_PATH, transform=test_transforms)\n",
        "test_data_loader = DataLoader(test_data, batch_size=batch_size, shuffle=False, num_workers=4, pin_memory=True)"
      ]
    },
    {
      "cell_type": "markdown",
      "metadata": {
        "id": "OOfKxgyVxZRu"
      },
      "source": [
        "**MobileNet v1**"
      ]
    },
    {
      "cell_type": "code",
      "execution_count": null,
      "metadata": {
        "id": "_f86A20y5Q1O"
      },
      "outputs": [],
      "source": [
        "from torch.nn.modules.batchnorm import BatchNorm2d\n",
        "class MobileNetV1(nn.Module):\n",
        "    def __init__ (self, in_channels=3, width_multiplier=1, num_classes=10):\n",
        "        super(MobileNetV1, self).__init__()\n",
        "        alpha = width_multiplier\n",
        "\n",
        "        # Standard CONV\n",
        "        def conv_std(in_c, out_c, stride):\n",
        "            return nn.Sequential(\n",
        "                nn.Conv2d(in_c, out_c*alpha, 3, stride, 1, bias=False),\n",
        "                nn.BatchNorm2d(out_c*alpha),\n",
        "                nn.ReLU(inplace=True)\n",
        "            )\n",
        "        \n",
        "        # Depthwise Separable CONV\n",
        "        def conv_dw(in_c, out_c, stride):\n",
        "            return nn.Sequential(\n",
        "                nn.Conv2d(in_c*alpha, in_c*alpha, 3, stride, 1, groups=in_c, bias=False),\n",
        "                nn.BatchNorm2d(in_c*alpha),\n",
        "                nn.ReLU(inplace=True),\n",
        "\n",
        "                nn.Conv2d(in_c*alpha, out_c*alpha, 1, 1, 0, bias=False),\n",
        "                nn.BatchNorm2d(out_c*alpha),\n",
        "                nn.ReLU(inplace=True)\n",
        "            )\n",
        "        \n",
        "        # 1 standard CONV, 13 depthwise separable CONV\n",
        "        self.model = nn.Sequential(\n",
        "            conv_std(in_channels, 32, 2), # standar conv\n",
        "            conv_dw( 32,  64, 1), # dw1\n",
        "            conv_dw( 64, 128, 2), # dw2\n",
        "            conv_dw(128, 128, 1), # dw3\n",
        "            conv_dw(128, 256, 2), # dw4\n",
        "            conv_dw(256, 256, 1), # dw5\n",
        "            conv_dw(256, 512, 2), # dw6\n",
        "            conv_dw(512, 512, 1), # dw7\n",
        "            conv_dw(512, 512, 1), # dw8\n",
        "            conv_dw(512, 512, 1), # dw9\n",
        "            conv_dw(512, 512, 1), # dw10\n",
        "            conv_dw(512, 512, 1), # dw11\n",
        "            conv_dw(512, 1024, 2), # dw12\n",
        "            conv_dw(1024, 1024, 1), # dw13\n",
        "            nn.AvgPool2d(7),\n",
        "        )\n",
        "        \n",
        "        # Linear classifier\n",
        "        self.fc = nn.Linear(1024*alpha, num_classes)\n",
        "    \n",
        "    def forward(self, x):\n",
        "        x = self.model(x)\n",
        "        x = x.view(-1, 1024)\n",
        "        x = self.fc(x)\n",
        "        return x\n",
        "\n",
        "    # Kaiming Initialization\n",
        "    def initialize_weights(self):\n",
        "        for m in self.modules():\n",
        "            if isinstance(m, nn.Conv2d):\n",
        "                nn.init.kaiming_uniform_(m.weight, nonlinearity='relu')\n",
        "                if m.bias is not None:\n",
        "                    nn.init.constant_(m.bias, 0)\n",
        "            elif isinstance(m, nn.BatchNorm2d):\n",
        "                nn.init.constant_(m.weight, 1)\n",
        "                nn.init.constant_(m.bias, 0)\n",
        "            elif isinstance(m, nn.Linear):\n",
        "                nn.init.normal_(m.weight, 0, 0.01)\n",
        "                nn.init.constant_(m.bias, 0)\n"
      ]
    },
    {
      "cell_type": "markdown",
      "metadata": {
        "id": "kmFPK3qDsMKl"
      },
      "source": [
        "**Hyperparameters ,Optimizer, and Loss Function**"
      ]
    },
    {
      "cell_type": "code",
      "execution_count": null,
      "metadata": {
        "id": "s-huy_Q3sQrD"
      },
      "outputs": [],
      "source": [
        "learning_rate = 0.001 \n",
        "num_epochs = 50\n",
        "\n",
        "model =  MobileNetV1().to(device)\n",
        "\n",
        "optimizer = optim.Adam(model.parameters(), lr=learning_rate)\n",
        "loss_func = nn.CrossEntropyLoss()"
      ]
    },
    {
      "cell_type": "markdown",
      "metadata": {
        "id": "cHvRI4MbAtdc"
      },
      "source": [
        "**Torch Summary**"
      ]
    },
    {
      "cell_type": "code",
      "execution_count": null,
      "metadata": {
        "colab": {
          "base_uri": "https://localhost:8080/"
        },
        "id": "VfKnGUAZAuW2",
        "outputId": "c02d9e48-d9c7-4014-c1b5-adca499229d9"
      },
      "outputs": [
        {
          "output_type": "stream",
          "name": "stdout",
          "text": [
            "----------------------------------------------------------------\n",
            "        Layer (type)               Output Shape         Param #\n",
            "================================================================\n",
            "            Conv2d-1         [-1, 32, 112, 112]             864\n",
            "       BatchNorm2d-2         [-1, 32, 112, 112]              64\n",
            "              ReLU-3         [-1, 32, 112, 112]               0\n",
            "            Conv2d-4         [-1, 32, 112, 112]             288\n",
            "       BatchNorm2d-5         [-1, 32, 112, 112]              64\n",
            "              ReLU-6         [-1, 32, 112, 112]               0\n",
            "            Conv2d-7         [-1, 64, 112, 112]           2,048\n",
            "       BatchNorm2d-8         [-1, 64, 112, 112]             128\n",
            "              ReLU-9         [-1, 64, 112, 112]               0\n",
            "           Conv2d-10           [-1, 64, 56, 56]             576\n",
            "      BatchNorm2d-11           [-1, 64, 56, 56]             128\n",
            "             ReLU-12           [-1, 64, 56, 56]               0\n",
            "           Conv2d-13          [-1, 128, 56, 56]           8,192\n",
            "      BatchNorm2d-14          [-1, 128, 56, 56]             256\n",
            "             ReLU-15          [-1, 128, 56, 56]               0\n",
            "           Conv2d-16          [-1, 128, 56, 56]           1,152\n",
            "      BatchNorm2d-17          [-1, 128, 56, 56]             256\n",
            "             ReLU-18          [-1, 128, 56, 56]               0\n",
            "           Conv2d-19          [-1, 128, 56, 56]          16,384\n",
            "      BatchNorm2d-20          [-1, 128, 56, 56]             256\n",
            "             ReLU-21          [-1, 128, 56, 56]               0\n",
            "           Conv2d-22          [-1, 128, 28, 28]           1,152\n",
            "      BatchNorm2d-23          [-1, 128, 28, 28]             256\n",
            "             ReLU-24          [-1, 128, 28, 28]               0\n",
            "           Conv2d-25          [-1, 256, 28, 28]          32,768\n",
            "      BatchNorm2d-26          [-1, 256, 28, 28]             512\n",
            "             ReLU-27          [-1, 256, 28, 28]               0\n",
            "           Conv2d-28          [-1, 256, 28, 28]           2,304\n",
            "      BatchNorm2d-29          [-1, 256, 28, 28]             512\n",
            "             ReLU-30          [-1, 256, 28, 28]               0\n",
            "           Conv2d-31          [-1, 256, 28, 28]          65,536\n",
            "      BatchNorm2d-32          [-1, 256, 28, 28]             512\n",
            "             ReLU-33          [-1, 256, 28, 28]               0\n",
            "           Conv2d-34          [-1, 256, 14, 14]           2,304\n",
            "      BatchNorm2d-35          [-1, 256, 14, 14]             512\n",
            "             ReLU-36          [-1, 256, 14, 14]               0\n",
            "           Conv2d-37          [-1, 512, 14, 14]         131,072\n",
            "      BatchNorm2d-38          [-1, 512, 14, 14]           1,024\n",
            "             ReLU-39          [-1, 512, 14, 14]               0\n",
            "           Conv2d-40          [-1, 512, 14, 14]           4,608\n",
            "      BatchNorm2d-41          [-1, 512, 14, 14]           1,024\n",
            "             ReLU-42          [-1, 512, 14, 14]               0\n",
            "           Conv2d-43          [-1, 512, 14, 14]         262,144\n",
            "      BatchNorm2d-44          [-1, 512, 14, 14]           1,024\n",
            "             ReLU-45          [-1, 512, 14, 14]               0\n",
            "           Conv2d-46          [-1, 512, 14, 14]           4,608\n",
            "      BatchNorm2d-47          [-1, 512, 14, 14]           1,024\n",
            "             ReLU-48          [-1, 512, 14, 14]               0\n",
            "           Conv2d-49          [-1, 512, 14, 14]         262,144\n",
            "      BatchNorm2d-50          [-1, 512, 14, 14]           1,024\n",
            "             ReLU-51          [-1, 512, 14, 14]               0\n",
            "           Conv2d-52          [-1, 512, 14, 14]           4,608\n",
            "      BatchNorm2d-53          [-1, 512, 14, 14]           1,024\n",
            "             ReLU-54          [-1, 512, 14, 14]               0\n",
            "           Conv2d-55          [-1, 512, 14, 14]         262,144\n",
            "      BatchNorm2d-56          [-1, 512, 14, 14]           1,024\n",
            "             ReLU-57          [-1, 512, 14, 14]               0\n",
            "           Conv2d-58          [-1, 512, 14, 14]           4,608\n",
            "      BatchNorm2d-59          [-1, 512, 14, 14]           1,024\n",
            "             ReLU-60          [-1, 512, 14, 14]               0\n",
            "           Conv2d-61          [-1, 512, 14, 14]         262,144\n",
            "      BatchNorm2d-62          [-1, 512, 14, 14]           1,024\n",
            "             ReLU-63          [-1, 512, 14, 14]               0\n",
            "           Conv2d-64          [-1, 512, 14, 14]           4,608\n",
            "      BatchNorm2d-65          [-1, 512, 14, 14]           1,024\n",
            "             ReLU-66          [-1, 512, 14, 14]               0\n",
            "           Conv2d-67          [-1, 512, 14, 14]         262,144\n",
            "      BatchNorm2d-68          [-1, 512, 14, 14]           1,024\n",
            "             ReLU-69          [-1, 512, 14, 14]               0\n",
            "           Conv2d-70            [-1, 512, 7, 7]           4,608\n",
            "      BatchNorm2d-71            [-1, 512, 7, 7]           1,024\n",
            "             ReLU-72            [-1, 512, 7, 7]               0\n",
            "           Conv2d-73           [-1, 1024, 7, 7]         524,288\n",
            "      BatchNorm2d-74           [-1, 1024, 7, 7]           2,048\n",
            "             ReLU-75           [-1, 1024, 7, 7]               0\n",
            "           Conv2d-76           [-1, 1024, 7, 7]           9,216\n",
            "      BatchNorm2d-77           [-1, 1024, 7, 7]           2,048\n",
            "             ReLU-78           [-1, 1024, 7, 7]               0\n",
            "           Conv2d-79           [-1, 1024, 7, 7]       1,048,576\n",
            "      BatchNorm2d-80           [-1, 1024, 7, 7]           2,048\n",
            "             ReLU-81           [-1, 1024, 7, 7]               0\n",
            "        AvgPool2d-82           [-1, 1024, 1, 1]               0\n",
            "           Linear-83                   [-1, 10]          10,250\n",
            "================================================================\n",
            "Total params: 3,217,226\n",
            "Trainable params: 3,217,226\n",
            "Non-trainable params: 0\n",
            "----------------------------------------------------------------\n",
            "Input size (MB): 0.57\n",
            "Forward/backward pass size (MB): 115.43\n",
            "Params size (MB): 12.27\n",
            "Estimated Total Size (MB): 128.27\n",
            "----------------------------------------------------------------\n"
          ]
        }
      ],
      "source": [
        "summary(model, (3, 224, 224))"
      ]
    },
    {
      "cell_type": "markdown",
      "metadata": {
        "id": "f3Eg6Lnqot_f"
      },
      "source": [
        "**Data Structures to Save Data**"
      ]
    },
    {
      "cell_type": "code",
      "execution_count": null,
      "metadata": {
        "id": "fYPYRaMRoxJ1"
      },
      "outputs": [],
      "source": [
        "# epoch\n",
        "epoch_num = [x for x in range(1,num_epochs+1)]\n",
        "\n",
        "# training accuracy and loss\n",
        "train_accuracy, total_train_loss = [], []\n",
        "\n",
        "# validation accuracy and loss\n",
        "val_accuracy, total_val_loss = [], []"
      ]
    },
    {
      "cell_type": "markdown",
      "metadata": {
        "id": "Ks8tucUeoDSi"
      },
      "source": [
        "**Model Training (and Val Loop)**"
      ]
    },
    {
      "cell_type": "code",
      "execution_count": null,
      "metadata": {
        "colab": {
          "base_uri": "https://localhost:8080/",
          "height": 1000
        },
        "id": "k7DCZ3FVwH8H",
        "outputId": "699d6feb-a641-470e-c6c3-a08fc038fc15"
      },
      "outputs": [
        {
          "output_type": "stream",
          "name": "stdout",
          "text": [
            "Epoch 1 | Train % = 47.25922775268555 | Val % = 18.268497467041016 | Train loss = 1.8438193077842395 | Val loss = 3.059456847962879\n",
            "Epoch 2 | Train % = 50.016380310058594 | Val % = 18.154081344604492 | Train loss = 1.6523513346910477 | Val loss = 2.38718695299966\n",
            "Epoch 3 | Train % = 54.482418060302734 | Val % = 25.705570220947266 | Train loss = 1.5190953819288149 | Val loss = 2.1511932952063426\n",
            "Epoch 4 | Train % = 60.89757537841797 | Val % = 38.71091079711914 | Train loss = 1.3251684055560164 | Val loss = 1.853589795884632\n",
            "Epoch 5 | Train % = 68.32823944091797 | Val % = 37.147216796875 | Train loss = 1.1061368075509865 | Val loss = 1.8422229403541202\n",
            "Epoch 6 | Train % = 75.24022674560547 | Val % = 39.93135070800781 | Train loss = 0.9626049800879426 | Val loss = 1.817368785540263\n",
            "Epoch 7 | Train % = 78.36863708496094 | Val % = 29.17620277404785 | Train loss = 0.8870640541944239 | Val loss = 2.056942953949883\n",
            "Epoch 8 | Train % = 81.4369888305664 | Val % = 43.40198516845703 | Train loss = 0.8335836256543795 | Val loss = 1.7116016348203023\n",
            "Epoch 9 | Train % = 85.995849609375 | Val % = 45.461483001708984 | Train loss = 0.7225834940456681 | Val loss = 1.637294956615993\n",
            "Epoch 10 | Train % = 89.17886352539062 | Val % = 61.47978973388672 | Train loss = 0.6544776776184639 | Val loss = 1.3025730905078707\n",
            "Epoch 11 | Train % = 94.7641372680664 | Val % = 34.477500915527344 | Train loss = 0.49833113617367214 | Val loss = 1.989933416956947\n",
            "Epoch 12 | Train % = 93.81961059570312 | Val % = 60.60259246826172 | Train loss = 0.5159446061071422 | Val loss = 1.3237238611493791\n",
            "Epoch 13 | Train % = 97.26468658447266 | Val % = 41.07551574707031 | Train loss = 0.36807395414345795 | Val loss = 1.7949803585097903\n",
            "Epoch 14 | Train % = 94.840576171875 | Val % = 50.26697540283203 | Train loss = 0.4271685420018103 | Val loss = 1.463888128598531\n",
            "Epoch 15 | Train % = 98.80978393554688 | Val % = 68.68802642822266 | Train loss = 0.2491903188638389 | Val loss = 1.1284330856232416\n",
            "Epoch 16 | Train % = 99.08277130126953 | Val % = 61.02212142944336 | Train loss = 0.23603160679340363 | Val loss = 1.2543973525365193\n",
            "Epoch 17 | Train % = 99.33391571044922 | Val % = 74.40885162353516 | Train loss = 0.20890324547265968 | Val loss = 0.9419318778174264\n",
            "Epoch 18 | Train % = 99.69971466064453 | Val % = 69.60336303710938 | Train loss = 0.15289325546473265 | Val loss = 1.0679096693084353\n",
            "Epoch 19 | Train % = 99.66695404052734 | Val % = 76.08695983886719 | Train loss = 0.15927250965291428 | Val loss = 0.9070611681256976\n",
            "Epoch 20 | Train % = 99.6014404296875 | Val % = 78.94737243652344 | Train loss = 0.1727454736828804 | Val loss = 0.7883742905798412\n",
            "Epoch 21 | Train % = 99.78707122802734 | Val % = 78.48970031738281 | Train loss = 0.13202576943311012 | Val loss = 0.8135147378558204\n",
            "Epoch 22 | Train % = 99.7761459350586 | Val % = 73.37909698486328 | Train loss = 0.1338022168363548 | Val loss = 0.9170453690347218\n",
            "Epoch 23 | Train % = 99.78160858154297 | Val % = 74.4851303100586 | Train loss = 0.12947602052655485 | Val loss = 0.9039869620686486\n",
            "Epoch 24 | Train % = 99.74339294433594 | Val % = 90.27460479736328 | Train loss = 0.12944094518510005 | Val loss = 0.5046189434471584\n",
            "Epoch 25 | Train % = 99.98908233642578 | Val % = 91.76201629638672 | Train loss = 0.063356860812443 | Val loss = 0.4616760441235134\n",
            "Epoch 26 | Train % = 99.97816467285156 | Val % = 94.81311798095703 | Train loss = 0.06555982275555532 | Val loss = 0.3478125369264966\n",
            "Epoch 27 | Train % = 99.8798828125 | Val % = 95.76659393310547 | Train loss = 0.11705845239986148 | Val loss = 0.3361905465523402\n",
            "Epoch 28 | Train % = 99.97270202636719 | Val % = 92.6773452758789 | Train loss = 0.09411380587456127 | Val loss = 0.39858201642831165\n",
            "Epoch 29 | Train % = 99.86896514892578 | Val % = 96.94889831542969 | Train loss = 0.12612832746365005 | Val loss = 0.2531117215043023\n",
            "Epoch 30 | Train % = 99.9235610961914 | Val % = 95.91915130615234 | Train loss = 0.11407183002059658 | Val loss = 0.3018330583969752\n",
            "Epoch 31 | Train % = 99.85258483886719 | Val % = 93.32571411132812 | Train loss = 0.10225671322809325 | Val loss = 0.3425391685395014\n",
            "Epoch 32 | Train % = 99.8962631225586 | Val % = 97.29215240478516 | Train loss = 0.0966401881693552 | Val loss = 0.20844260266139394\n",
            "Epoch 33 | Train % = 99.99453735351562 | Val % = 96.18611907958984 | Train loss = 0.05160766522102575 | Val loss = 0.2640450378613813\n",
            "Epoch 34 | Train % = 99.96723937988281 | Val % = 96.37681579589844 | Train loss = 0.05991998832905665 | Val loss = 0.24924655861797787\n",
            "Epoch 35 | Train % = 99.8962631225586 | Val % = 97.2540054321289 | Train loss = 0.10503080981369647 | Val loss = 0.23660889622711\n",
            "Epoch 36 | Train % = 99.53592681884766 | Val % = 98.01678466796875 | Train loss = 0.1385456799244922 | Val loss = 0.16132142314953463\n",
            "Epoch 37 | Train % = 99.98908233642578 | Val % = 99.0465316772461 | Train loss = 0.03443151758013604 | Val loss = 0.138342557741063\n",
            "Epoch 38 | Train % = 99.9563217163086 | Val % = 98.3981704711914 | Train loss = 0.04820758328100459 | Val loss = 0.17072259871998713\n",
            "Epoch 39 | Train % = 99.81436920166016 | Val % = 96.07170104980469 | Train loss = 0.09453729263299869 | Val loss = 0.26592364721000195\n",
            "Epoch 40 | Train % = 99.91810607910156 | Val % = 98.66514587402344 | Train loss = 0.08795391561256515 | Val loss = 0.15601218811103276\n",
            "Epoch 41 | Train % = 99.90172576904297 | Val % = 98.36003112792969 | Train loss = 0.09614137734752148 | Val loss = 0.1416004633619672\n",
            "Epoch 42 | Train % = 99.96723937988281 | Val % = 99.19908905029297 | Train loss = 0.04459283332430965 | Val loss = 0.10931902671498912\n",
            "Epoch 43 | Train % = 99.98908233642578 | Val % = 97.40656280517578 | Train loss = 0.04090942590199928 | Val loss = 0.2160444347453969\n",
            "Epoch 44 | Train % = 99.93994140625 | Val % = 98.55072784423828 | Train loss = 0.06164832080119393 | Val loss = 0.14346944008554732\n",
            "Epoch 45 | Train % = 99.98908233642578 | Val % = 96.79634094238281 | Train loss = 0.04637548884299273 | Val loss = 0.21340207287686921\n",
            "Epoch 46 | Train % = 99.97270202636719 | Val % = 99.61861419677734 | Train loss = 0.04328192588420481 | Val loss = 0.08585388692361968\n",
            "Epoch 47 | Train % = 99.96723937988281 | Val % = 95.95728302001953 | Train loss = 0.05829450348068753 | Val loss = 0.25794348191647304\n",
            "Epoch 48 | Train % = 99.90172576904297 | Val % = 99.23722839355469 | Train loss = 0.08616063858951545 | Val loss = 0.1083096196608884\n",
            "Epoch 49 | Train % = 99.95085906982422 | Val % = 99.0465316772461 | Train loss = 0.07168722230966927 | Val loss = 0.10263667308858462\n",
            "Epoch 50 | Train % = 99.98908233642578 | Val % = 99.7330322265625 | Train loss = 0.03756083002533867 | Val loss = 0.09540836220341069\n"
          ]
        },
        {
          "output_type": "error",
          "ename": "KeyboardInterrupt",
          "evalue": "ignored",
          "traceback": [
            "\u001b[0;31m---------------------------------------------------------------------------\u001b[0m",
            "\u001b[0;31mKeyboardInterrupt\u001b[0m                         Traceback (most recent call last)",
            "\u001b[0;32m<ipython-input-14-f34a2eb2b2f2>\u001b[0m in \u001b[0;36m<module>\u001b[0;34m()\u001b[0m\n\u001b[1;32m     12\u001b[0m         \u001b[0moutput\u001b[0m \u001b[0;34m=\u001b[0m \u001b[0mmodel\u001b[0m\u001b[0;34m(\u001b[0m\u001b[0mimgs\u001b[0m\u001b[0;34m)\u001b[0m\u001b[0;34m\u001b[0m\u001b[0;34m\u001b[0m\u001b[0m\n\u001b[1;32m     13\u001b[0m         \u001b[0mt_loss\u001b[0m \u001b[0;34m=\u001b[0m \u001b[0mloss_func\u001b[0m\u001b[0;34m(\u001b[0m\u001b[0moutput\u001b[0m\u001b[0;34m,\u001b[0m \u001b[0mclasses\u001b[0m\u001b[0;34m)\u001b[0m\u001b[0;34m\u001b[0m\u001b[0;34m\u001b[0m\u001b[0m\n\u001b[0;32m---> 14\u001b[0;31m         \u001b[0mtmp_train_loss\u001b[0m\u001b[0;34m.\u001b[0m\u001b[0mappend\u001b[0m\u001b[0;34m(\u001b[0m\u001b[0mt_loss\u001b[0m\u001b[0;34m.\u001b[0m\u001b[0mitem\u001b[0m\u001b[0;34m(\u001b[0m\u001b[0;34m)\u001b[0m\u001b[0;34m)\u001b[0m\u001b[0;34m\u001b[0m\u001b[0;34m\u001b[0m\u001b[0m\n\u001b[0m\u001b[1;32m     15\u001b[0m \u001b[0;34m\u001b[0m\u001b[0m\n\u001b[1;32m     16\u001b[0m         \u001b[0moptimizer\u001b[0m\u001b[0;34m.\u001b[0m\u001b[0mzero_grad\u001b[0m\u001b[0;34m(\u001b[0m\u001b[0;34m)\u001b[0m\u001b[0;34m\u001b[0m\u001b[0;34m\u001b[0m\u001b[0m\n",
            "\u001b[0;31mKeyboardInterrupt\u001b[0m: "
          ]
        }
      ],
      "source": [
        "for epoch in range(num_epochs):\n",
        "    train_num_correct, train_num_samples = 0, 0\n",
        "    val_num_correct, val_num_samples = 0, 0\n",
        "\n",
        "    # training loop\n",
        "    model.train()\n",
        "    torch.backends.cudnn.benchmark = True\n",
        "    tmp_train_loss = []\n",
        "    for imgs, classes in train_data_loader:\n",
        "        imgs, classes = imgs.to(device=device), classes.to(device=device)\n",
        "\n",
        "        output = model(imgs)\n",
        "        t_loss = loss_func(output, classes)\n",
        "        tmp_train_loss.append(t_loss.item())\n",
        "\n",
        "        optimizer.zero_grad()\n",
        "        t_loss.backward()\n",
        "\n",
        "        optimizer.step()\n",
        "\n",
        "        with torch.no_grad():\n",
        "            scores = model(imgs)\n",
        "            _, predictions = scores.max(1)\n",
        "\n",
        "            train_num_correct += (predictions==classes).sum()\n",
        "            train_num_samples += predictions.size(0)\n",
        "\n",
        "    train_acc = (train_num_correct)/(train_num_samples)*100\n",
        "    train_accuracy.append(train_acc.cpu())\n",
        "    \n",
        "    tmp_train_loss = np.array(tmp_train_loss)\n",
        "    epoch_train_loss = np.mean(tmp_train_loss)\n",
        "\n",
        "    total_train_loss.append(epoch_train_loss)\n",
        "\n",
        "    # validation loop\n",
        "    model.eval()\n",
        "    tmp_val_loss = []\n",
        "    for imgs, classes in val_data_loader:\n",
        "        imgs, classes = imgs.to(device=device), classes.to(device=device)\n",
        "\n",
        "        output = model(imgs)\n",
        "        v_loss = loss_func(output, classes)\n",
        "        tmp_val_loss.append(v_loss.item())\n",
        "\n",
        "        optimizer.zero_grad()\n",
        "        v_loss.backward()\n",
        "\n",
        "        optimizer.step()\n",
        "\n",
        "        with torch.no_grad():\n",
        "            scores = model(imgs)\n",
        "            _, predictions = scores.max(1)\n",
        "\n",
        "            val_num_correct += (predictions==classes).sum()\n",
        "            val_num_samples += predictions.size(0)\n",
        "        \n",
        "    val_acc = (val_num_correct)/(val_num_samples)*100\n",
        "    val_accuracy.append(val_acc.cpu())\n",
        "\n",
        "    tmp_val_loss = np.array(tmp_val_loss)\n",
        "    epoch_val_loss = np.mean(tmp_val_loss)\n",
        "\n",
        "    total_val_loss.append(epoch_val_loss)\n",
        "\n",
        "    print(f'Epoch {epoch+1} | Train % = {train_acc} | Val % = {val_acc} | Train loss = {epoch_train_loss} | Val loss = {epoch_val_loss}')"
      ]
    },
    {
      "cell_type": "markdown",
      "metadata": {
        "id": "lcojMTWxoMjP"
      },
      "source": [
        "**Test Set**"
      ]
    },
    {
      "cell_type": "code",
      "execution_count": null,
      "metadata": {
        "colab": {
          "base_uri": "https://localhost:8080/"
        },
        "id": "oVrv1L6PoO6_",
        "outputId": "430221fe-fc52-4899-b295-57fb5e27ecb6"
      },
      "outputs": [
        {
          "output_type": "stream",
          "name": "stdout",
          "text": [
            "Test Accuracy ----------------------------> 70.81%\n"
          ]
        }
      ],
      "source": [
        "test_num_correct = 0\n",
        "test_num_samples = 0\n",
        "\n",
        "model.eval()\n",
        "with torch.no_grad():\n",
        "    for img, classes in test_data_loader:\n",
        "        img, classes = img.to(device=device), classes.to(device=device)\n",
        "\n",
        "        output = model(img)\n",
        "        _, predictions = output.max(1)\n",
        "        test_num_correct += (predictions == classes).sum()\n",
        "        test_num_samples += predictions.size(0)\n",
        "    \n",
        "    print(f'Test Accuracy ----------------------------> {(test_num_correct)/(test_num_samples)*100:.2f}%')"
      ]
    },
    {
      "cell_type": "markdown",
      "metadata": {
        "id": "_9JtwpAkGcBe"
      },
      "source": [
        "**Accuracy Chart (Train and Val)**"
      ]
    },
    {
      "cell_type": "code",
      "execution_count": null,
      "metadata": {
        "colab": {
          "base_uri": "https://localhost:8080/",
          "height": 350
        },
        "id": "sG9OykhlvufS",
        "outputId": "6510152e-a263-45a8-9a6a-98d174bdc13a"
      },
      "outputs": [
        {
          "output_type": "display_data",
          "data": {
            "text/plain": [
              "<Figure size 720x360 with 1 Axes>"
            ],
            "image/png": "[encoded data removed]"
          },
          "metadata": {
            "needs_background": "light"
          }
        }
      ],
      "source": [
        "plt.plot(epoch_num, train_accuracy, 'r', label=\"train\")\n",
        "plt.plot(epoch_num, val_accuracy, 'b', label=\"val\")\n",
        "plt.title('Accuracy for MobileNet v1 for Animals10')\n",
        "plt.ylabel('Accuracy (%)')\n",
        "plt.xlabel('Epochs')\n",
        "plt.legend(loc=\"lower right\")\n",
        "#plt.rcParams['figure.figsize'] = [10, 5]\n",
        "plt.show()"
      ]
    },
    {
      "cell_type": "markdown",
      "metadata": {
        "id": "I-MqkTMkGhPf"
      },
      "source": [
        "**Loss (Train and Val)**"
      ]
    },
    {
      "cell_type": "code",
      "execution_count": null,
      "metadata": {
        "colab": {
          "base_uri": "https://localhost:8080/",
          "height": 350
        },
        "id": "5pm9ZSJg84zY",
        "outputId": "4f8c8a37-a3cf-4842-b13b-77a4e5c4378f"
      },
      "outputs": [
        {
          "output_type": "display_data",
          "data": {
            "text/plain": [
              "<Figure size 720x360 with 1 Axes>"
            ],
            "image/png": "[encoded data removed]"
          },
          "metadata": {
            "needs_background": "light"
          }
        }
      ],
      "source": [
        "plt.plot(epoch_num, total_train_loss, 'r', label=\"train\")\n",
        "plt.plot(epoch_num, total_val_loss, 'b', label=\"val\")\n",
        "plt.title('Loss for MobileNet v1 for Animals10')\n",
        "plt.ylabel('Loss')\n",
        "plt.xlabel('Epochs')\n",
        "plt.legend(loc=\"lower right\")\n",
        "plt.rcParams['figure.figsize'] = [10, 5]\n",
        "plt.show()"
      ]
    }
  ],
  "metadata": {
    "accelerator": "GPU",
    "colab": {
      "collapsed_sections": [],
      "machine_shape": "hm",
      "name": "MobileNet_v1_Animals10",
      "provenance": []
    },
    "gpuClass": "standard",
    "kernelspec": {
      "display_name": "Python 3",
      "name": "python3"
    },
    "language_info": {
      "name": "python"
    }
  },
  "nbformat": 4,
  "nbformat_minor": 0
}