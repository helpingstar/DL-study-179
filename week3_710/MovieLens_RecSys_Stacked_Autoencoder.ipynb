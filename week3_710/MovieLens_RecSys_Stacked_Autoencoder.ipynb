{
  "nbformat": 4,
  "nbformat_minor": 0,
  "metadata": {
    "colab": {
      "name": "MovieLens RecSys - Stacked Autoencoder",
      "provenance": [],
      "collapsed_sections": [],
      "machine_shape": "hm"
    },
    "kernelspec": {
      "name": "python3",
      "display_name": "Python 3"
    },
    "language_info": {
      "name": "python"
    },
    "accelerator": "GPU",
    "gpuClass": "standard"
  },
  "cells": [
    {
      "cell_type": "markdown",
      "source": [
        "**Import Libraries**"
      ],
      "metadata": {
        "id": "GONhRLaMTgOz"
      }
    },
    {
      "cell_type": "code",
      "source": [
        "import os\n",
        "import numpy as np\n",
        "import pandas as pd\n",
        "import matplotlib.pyplot as plt\n",
        "\n",
        "import torch\n",
        "torch.cuda.empty_cache\n",
        "import torch.nn as nn\n",
        "import torch.optim as optim\n",
        "import torch.utils.data\n",
        "from torch.autograd import Variable\n",
        "from torchsummary import summary"
      ],
      "metadata": {
        "id": "-o6V303oW0m8"
      },
      "execution_count": 1,
      "outputs": []
    },
    {
      "cell_type": "markdown",
      "source": [
        "**Set device (GPU or CPU)**"
      ],
      "metadata": {
        "id": "6AY6yN1xlxTj"
      }
    },
    {
      "cell_type": "code",
      "source": [
        "device = torch.device('cuda' if torch.cuda.is_available() else 'cpu')\n",
        "print(f'GPU device name: {torch.cuda.get_device_name()}')"
      ],
      "metadata": {
        "colab": {
          "base_uri": "https://localhost:8080/"
        },
        "id": "t_Ohbe7gl0rM",
        "outputId": "17a6376d-c6f7-4313-93b8-ab3a1edee9cc"
      },
      "execution_count": 2,
      "outputs": [
        {
          "output_type": "stream",
          "name": "stdout",
          "text": [
            "GPU device name: Tesla P100-PCIE-16GB\n"
          ]
        }
      ]
    },
    {
      "cell_type": "markdown",
      "source": [
        "**Download dataset and clean files**"
      ],
      "metadata": {
        "id": "L1f5TsNsouwL"
      }
    },
    {
      "cell_type": "code",
      "source": [
        "!wget -nc -q 'http://files.grouplens.org/datasets/movielens/ml-100k.zip'\n",
        "!unzip -n -q ml-100k.zip -d '/content'\n",
        "!rm -rf '/content/ml-100k.zip' 'sample_data'"
      ],
      "metadata": {
        "id": "98vD1hzknsGC"
      },
      "execution_count": 3,
      "outputs": []
    },
    {
      "cell_type": "markdown",
      "source": [
        "**Load and count data**"
      ],
      "metadata": {
        "id": "75E2ol8WTi-d"
      }
    },
    {
      "cell_type": "code",
      "source": [
        "user_cols = ['User ID', 'Age', 'Sex', 'Occupation', 'ZIP Code']\n",
        "users = pd.read_csv('/content/ml-100k/u.user', sep='|', names=user_cols, encoding='latin-1')\n",
        "\n",
        "rating_cols = ['User ID', 'Movie ID', 'Rating', 'Timestamp']\n",
        "ratings = pd.read_csv('/content/ml-100k/u.data', sep='\\t', names=rating_cols,encoding='latin-1')\n",
        "\n",
        "nb_users = users['User ID'].nunique()\n",
        "nb_movies = ratings['Movie ID'].nunique()\n",
        "\n",
        "print(f'Unique # of users ----> {nb_users}')\n",
        "print(f'Unique # of movies ---> {nb_movies}')"
      ],
      "metadata": {
        "colab": {
          "base_uri": "https://localhost:8080/"
        },
        "id": "WzofI8He-r42",
        "outputId": "14b00ea4-40d1-41c5-9edc-bf954c660e27"
      },
      "execution_count": 4,
      "outputs": [
        {
          "output_type": "stream",
          "name": "stdout",
          "text": [
            "Unique # of users ----> 943\n",
            "Unique # of movies ---> 1682\n"
          ]
        }
      ]
    },
    {
      "cell_type": "markdown",
      "source": [
        "**Create data to input into model**"
      ],
      "metadata": {
        "id": "_KkVq0ViTnB8"
      }
    },
    {
      "cell_type": "code",
      "source": [
        "ratings_matrix = ratings.pivot_table(index=['User ID'], columns=['Movie ID'], values='Rating').reset_index(drop=True)\n",
        "ratings_matrix.fillna(0, inplace=True)\n",
        "\n",
        "data_matrix = np.array(ratings_matrix)\n",
        "print(data_matrix.shape)\n",
        "print(data_matrix)"
      ],
      "metadata": {
        "colab": {
          "base_uri": "https://localhost:8080/"
        },
        "id": "O7PETYGoAY4v",
        "outputId": "b208e517-2490-4fe4-8453-a32806fafb53"
      },
      "execution_count": 5,
      "outputs": [
        {
          "output_type": "stream",
          "name": "stdout",
          "text": [
            "(943, 1682)\n",
            "[[5. 3. 4. ... 0. 0. 0.]\n",
            " [4. 0. 0. ... 0. 0. 0.]\n",
            " [0. 0. 0. ... 0. 0. 0.]\n",
            " ...\n",
            " [5. 0. 0. ... 0. 0. 0.]\n",
            " [0. 0. 0. ... 0. 0. 0.]\n",
            " [0. 5. 0. ... 0. 0. 0.]]\n"
          ]
        }
      ]
    },
    {
      "cell_type": "markdown",
      "source": [
        "**Sneak peak -> Users data**"
      ],
      "metadata": {
        "id": "NitsJ8fuqfHD"
      }
    },
    {
      "cell_type": "code",
      "source": [
        "users.head()"
      ],
      "metadata": {
        "colab": {
          "base_uri": "https://localhost:8080/",
          "height": 206
        },
        "id": "tEfqOr_NTtsV",
        "outputId": "3149120e-ca38-4700-8265-4fdb54c27d41"
      },
      "execution_count": 6,
      "outputs": [
        {
          "output_type": "execute_result",
          "data": {
            "text/plain": [
              "   User ID  Age Sex  Occupation ZIP Code\n",
              "0        1   24   M  technician    85711\n",
              "1        2   53   F       other    94043\n",
              "2        3   23   M      writer    32067\n",
              "3        4   24   M  technician    43537\n",
              "4        5   33   F       other    15213"
            ],
            "text/html": [
              "\n",
              "  <div id=\"df-7f3c213e-b01e-4456-9906-75bb6340f3e6\">\n",
              "    <div class=\"colab-df-container\">\n",
              "      <div>\n",
              "<style scoped>\n",
              "    .dataframe tbody tr th:only-of-type {\n",
              "        vertical-align: middle;\n",
              "    }\n",
              "\n",
              "    .dataframe tbody tr th {\n",
              "        vertical-align: top;\n",
              "    }\n",
              "\n",
              "    .dataframe thead th {\n",
              "        text-align: right;\n",
              "    }\n",
              "</style>\n",
              "<table border=\"1\" class=\"dataframe\">\n",
              "  <thead>\n",
              "    <tr style=\"text-align: right;\">\n",
              "      <th></th>\n",
              "      <th>User ID</th>\n",
              "      <th>Age</th>\n",
              "      <th>Sex</th>\n",
              "      <th>Occupation</th>\n",
              "      <th>ZIP Code</th>\n",
              "    </tr>\n",
              "  </thead>\n",
              "  <tbody>\n",
              "    <tr>\n",
              "      <th>0</th>\n",
              "      <td>1</td>\n",
              "      <td>24</td>\n",
              "      <td>M</td>\n",
              "      <td>technician</td>\n",
              "      <td>85711</td>\n",
              "    </tr>\n",
              "    <tr>\n",
              "      <th>1</th>\n",
              "      <td>2</td>\n",
              "      <td>53</td>\n",
              "      <td>F</td>\n",
              "      <td>other</td>\n",
              "      <td>94043</td>\n",
              "    </tr>\n",
              "    <tr>\n",
              "      <th>2</th>\n",
              "      <td>3</td>\n",
              "      <td>23</td>\n",
              "      <td>M</td>\n",
              "      <td>writer</td>\n",
              "      <td>32067</td>\n",
              "    </tr>\n",
              "    <tr>\n",
              "      <th>3</th>\n",
              "      <td>4</td>\n",
              "      <td>24</td>\n",
              "      <td>M</td>\n",
              "      <td>technician</td>\n",
              "      <td>43537</td>\n",
              "    </tr>\n",
              "    <tr>\n",
              "      <th>4</th>\n",
              "      <td>5</td>\n",
              "      <td>33</td>\n",
              "      <td>F</td>\n",
              "      <td>other</td>\n",
              "      <td>15213</td>\n",
              "    </tr>\n",
              "  </tbody>\n",
              "</table>\n",
              "</div>\n",
              "      <button class=\"colab-df-convert\" onclick=\"convertToInteractive('df-7f3c213e-b01e-4456-9906-75bb6340f3e6')\"\n",
              "              title=\"Convert this dataframe to an interactive table.\"\n",
              "              style=\"display:none;\">\n",
              "        \n",
              "  <svg xmlns=\"http://www.w3.org/2000/svg\" height=\"24px\"viewBox=\"0 0 24 24\"\n",
              "       width=\"24px\">\n",
              "    <path d=\"M0 0h24v24H0V0z\" fill=\"none\"/>\n",
              "    <path d=\"M18.56 5.44l.94 2.06.94-2.06 2.06-.94-2.06-.94-.94-2.06-.94 2.06-2.06.94zm-11 1L8.5 8.5l.94-2.06 2.06-.94-2.06-.94L8.5 2.5l-.94 2.06-2.06.94zm10 10l.94 2.06.94-2.06 2.06-.94-2.06-.94-.94-2.06-.94 2.06-2.06.94z\"/><path d=\"M17.41 7.96l-1.37-1.37c-.4-.4-.92-.59-1.43-.59-.52 0-1.04.2-1.43.59L10.3 9.45l-7.72 7.72c-.78.78-.78 2.05 0 2.83L4 21.41c.39.39.9.59 1.41.59.51 0 1.02-.2 1.41-.59l7.78-7.78 2.81-2.81c.8-.78.8-2.07 0-2.86zM5.41 20L4 18.59l7.72-7.72 1.47 1.35L5.41 20z\"/>\n",
              "  </svg>\n",
              "      </button>\n",
              "      \n",
              "  <style>\n",
              "    .colab-df-container {\n",
              "      display:flex;\n",
              "      flex-wrap:wrap;\n",
              "      gap: 12px;\n",
              "    }\n",
              "\n",
              "    .colab-df-convert {\n",
              "      background-color: #E8F0FE;\n",
              "      border: none;\n",
              "      border-radius: 50%;\n",
              "      cursor: pointer;\n",
              "      display: none;\n",
              "      fill: #1967D2;\n",
              "      height: 32px;\n",
              "      padding: 0 0 0 0;\n",
              "      width: 32px;\n",
              "    }\n",
              "\n",
              "    .colab-df-convert:hover {\n",
              "      background-color: #E2EBFA;\n",
              "      box-shadow: 0px 1px 2px rgba(60, 64, 67, 0.3), 0px 1px 3px 1px rgba(60, 64, 67, 0.15);\n",
              "      fill: #174EA6;\n",
              "    }\n",
              "\n",
              "    [theme=dark] .colab-df-convert {\n",
              "      background-color: #3B4455;\n",
              "      fill: #D2E3FC;\n",
              "    }\n",
              "\n",
              "    [theme=dark] .colab-df-convert:hover {\n",
              "      background-color: #434B5C;\n",
              "      box-shadow: 0px 1px 3px 1px rgba(0, 0, 0, 0.15);\n",
              "      filter: drop-shadow(0px 1px 2px rgba(0, 0, 0, 0.3));\n",
              "      fill: #FFFFFF;\n",
              "    }\n",
              "  </style>\n",
              "\n",
              "      <script>\n",
              "        const buttonEl =\n",
              "          document.querySelector('#df-7f3c213e-b01e-4456-9906-75bb6340f3e6 button.colab-df-convert');\n",
              "        buttonEl.style.display =\n",
              "          google.colab.kernel.accessAllowed ? 'block' : 'none';\n",
              "\n",
              "        async function convertToInteractive(key) {\n",
              "          const element = document.querySelector('#df-7f3c213e-b01e-4456-9906-75bb6340f3e6');\n",
              "          const dataTable =\n",
              "            await google.colab.kernel.invokeFunction('convertToInteractive',\n",
              "                                                     [key], {});\n",
              "          if (!dataTable) return;\n",
              "\n",
              "          const docLinkHtml = 'Like what you see? Visit the ' +\n",
              "            '<a target=\"_blank\" href=https://colab.research.google.com/notebooks/data_table.ipynb>data table notebook</a>'\n",
              "            + ' to learn more about interactive tables.';\n",
              "          element.innerHTML = '';\n",
              "          dataTable['output_type'] = 'display_data';\n",
              "          await google.colab.output.renderOutput(dataTable, element);\n",
              "          const docLink = document.createElement('div');\n",
              "          docLink.innerHTML = docLinkHtml;\n",
              "          element.appendChild(docLink);\n",
              "        }\n",
              "      </script>\n",
              "    </div>\n",
              "  </div>\n",
              "  "
            ]
          },
          "metadata": {},
          "execution_count": 6
        }
      ]
    },
    {
      "cell_type": "markdown",
      "source": [
        "**Sneak peak -> Ratings data**"
      ],
      "metadata": {
        "id": "iOg8mO3XUDD3"
      }
    },
    {
      "cell_type": "code",
      "source": [
        "ratings.head()"
      ],
      "metadata": {
        "colab": {
          "base_uri": "https://localhost:8080/",
          "height": 206
        },
        "id": "jBe8ToR1UEr9",
        "outputId": "cdf2de39-ce5f-4ad5-e9e4-f42db7722b02"
      },
      "execution_count": 7,
      "outputs": [
        {
          "output_type": "execute_result",
          "data": {
            "text/plain": [
              "   User ID  Movie ID  Rating  Timestamp\n",
              "0      196       242       3  881250949\n",
              "1      186       302       3  891717742\n",
              "2       22       377       1  878887116\n",
              "3      244        51       2  880606923\n",
              "4      166       346       1  886397596"
            ],
            "text/html": [
              "\n",
              "  <div id=\"df-02be7699-dcee-4044-9dbb-034c8716090e\">\n",
              "    <div class=\"colab-df-container\">\n",
              "      <div>\n",
              "<style scoped>\n",
              "    .dataframe tbody tr th:only-of-type {\n",
              "        vertical-align: middle;\n",
              "    }\n",
              "\n",
              "    .dataframe tbody tr th {\n",
              "        vertical-align: top;\n",
              "    }\n",
              "\n",
              "    .dataframe thead th {\n",
              "        text-align: right;\n",
              "    }\n",
              "</style>\n",
              "<table border=\"1\" class=\"dataframe\">\n",
              "  <thead>\n",
              "    <tr style=\"text-align: right;\">\n",
              "      <th></th>\n",
              "      <th>User ID</th>\n",
              "      <th>Movie ID</th>\n",
              "      <th>Rating</th>\n",
              "      <th>Timestamp</th>\n",
              "    </tr>\n",
              "  </thead>\n",
              "  <tbody>\n",
              "    <tr>\n",
              "      <th>0</th>\n",
              "      <td>196</td>\n",
              "      <td>242</td>\n",
              "      <td>3</td>\n",
              "      <td>881250949</td>\n",
              "    </tr>\n",
              "    <tr>\n",
              "      <th>1</th>\n",
              "      <td>186</td>\n",
              "      <td>302</td>\n",
              "      <td>3</td>\n",
              "      <td>891717742</td>\n",
              "    </tr>\n",
              "    <tr>\n",
              "      <th>2</th>\n",
              "      <td>22</td>\n",
              "      <td>377</td>\n",
              "      <td>1</td>\n",
              "      <td>878887116</td>\n",
              "    </tr>\n",
              "    <tr>\n",
              "      <th>3</th>\n",
              "      <td>244</td>\n",
              "      <td>51</td>\n",
              "      <td>2</td>\n",
              "      <td>880606923</td>\n",
              "    </tr>\n",
              "    <tr>\n",
              "      <th>4</th>\n",
              "      <td>166</td>\n",
              "      <td>346</td>\n",
              "      <td>1</td>\n",
              "      <td>886397596</td>\n",
              "    </tr>\n",
              "  </tbody>\n",
              "</table>\n",
              "</div>\n",
              "      <button class=\"colab-df-convert\" onclick=\"convertToInteractive('df-02be7699-dcee-4044-9dbb-034c8716090e')\"\n",
              "              title=\"Convert this dataframe to an interactive table.\"\n",
              "              style=\"display:none;\">\n",
              "        \n",
              "  <svg xmlns=\"http://www.w3.org/2000/svg\" height=\"24px\"viewBox=\"0 0 24 24\"\n",
              "       width=\"24px\">\n",
              "    <path d=\"M0 0h24v24H0V0z\" fill=\"none\"/>\n",
              "    <path d=\"M18.56 5.44l.94 2.06.94-2.06 2.06-.94-2.06-.94-.94-2.06-.94 2.06-2.06.94zm-11 1L8.5 8.5l.94-2.06 2.06-.94-2.06-.94L8.5 2.5l-.94 2.06-2.06.94zm10 10l.94 2.06.94-2.06 2.06-.94-2.06-.94-.94-2.06-.94 2.06-2.06.94z\"/><path d=\"M17.41 7.96l-1.37-1.37c-.4-.4-.92-.59-1.43-.59-.52 0-1.04.2-1.43.59L10.3 9.45l-7.72 7.72c-.78.78-.78 2.05 0 2.83L4 21.41c.39.39.9.59 1.41.59.51 0 1.02-.2 1.41-.59l7.78-7.78 2.81-2.81c.8-.78.8-2.07 0-2.86zM5.41 20L4 18.59l7.72-7.72 1.47 1.35L5.41 20z\"/>\n",
              "  </svg>\n",
              "      </button>\n",
              "      \n",
              "  <style>\n",
              "    .colab-df-container {\n",
              "      display:flex;\n",
              "      flex-wrap:wrap;\n",
              "      gap: 12px;\n",
              "    }\n",
              "\n",
              "    .colab-df-convert {\n",
              "      background-color: #E8F0FE;\n",
              "      border: none;\n",
              "      border-radius: 50%;\n",
              "      cursor: pointer;\n",
              "      display: none;\n",
              "      fill: #1967D2;\n",
              "      height: 32px;\n",
              "      padding: 0 0 0 0;\n",
              "      width: 32px;\n",
              "    }\n",
              "\n",
              "    .colab-df-convert:hover {\n",
              "      background-color: #E2EBFA;\n",
              "      box-shadow: 0px 1px 2px rgba(60, 64, 67, 0.3), 0px 1px 3px 1px rgba(60, 64, 67, 0.15);\n",
              "      fill: #174EA6;\n",
              "    }\n",
              "\n",
              "    [theme=dark] .colab-df-convert {\n",
              "      background-color: #3B4455;\n",
              "      fill: #D2E3FC;\n",
              "    }\n",
              "\n",
              "    [theme=dark] .colab-df-convert:hover {\n",
              "      background-color: #434B5C;\n",
              "      box-shadow: 0px 1px 3px 1px rgba(0, 0, 0, 0.15);\n",
              "      filter: drop-shadow(0px 1px 2px rgba(0, 0, 0, 0.3));\n",
              "      fill: #FFFFFF;\n",
              "    }\n",
              "  </style>\n",
              "\n",
              "      <script>\n",
              "        const buttonEl =\n",
              "          document.querySelector('#df-02be7699-dcee-4044-9dbb-034c8716090e button.colab-df-convert');\n",
              "        buttonEl.style.display =\n",
              "          google.colab.kernel.accessAllowed ? 'block' : 'none';\n",
              "\n",
              "        async function convertToInteractive(key) {\n",
              "          const element = document.querySelector('#df-02be7699-dcee-4044-9dbb-034c8716090e');\n",
              "          const dataTable =\n",
              "            await google.colab.kernel.invokeFunction('convertToInteractive',\n",
              "                                                     [key], {});\n",
              "          if (!dataTable) return;\n",
              "\n",
              "          const docLinkHtml = 'Like what you see? Visit the ' +\n",
              "            '<a target=\"_blank\" href=https://colab.research.google.com/notebooks/data_table.ipynb>data table notebook</a>'\n",
              "            + ' to learn more about interactive tables.';\n",
              "          element.innerHTML = '';\n",
              "          dataTable['output_type'] = 'display_data';\n",
              "          await google.colab.output.renderOutput(dataTable, element);\n",
              "          const docLink = document.createElement('div');\n",
              "          docLink.innerHTML = docLinkHtml;\n",
              "          element.appendChild(docLink);\n",
              "        }\n",
              "      </script>\n",
              "    </div>\n",
              "  </div>\n",
              "  "
            ]
          },
          "metadata": {},
          "execution_count": 7
        }
      ]
    },
    {
      "cell_type": "markdown",
      "source": [
        "**Sneak peak -> Items data**"
      ],
      "metadata": {
        "id": "EkemOClEqizI"
      }
    },
    {
      "cell_type": "code",
      "source": [
        "column_names2 = ['movie id', 'movie title', 'release date', 'video release date', 'IMDb URL', 'unknown',\n",
        "                 'Action', 'Adventure', 'Animation', 'Children', 'Comedy', 'Crime', 'Documentary', 'Drama',\n",
        "                 'Fantasy', 'Film-Noir', 'Horror', 'Musical', 'Mystery', 'Romance', 'Sci-Fi', 'Thriller',\n",
        "                 'War', 'Western']\n",
        "items_dataset = pd.read_csv('/content/ml-100k/u.item', sep='|', header=None, names=column_names2, encoding='latin-1')\n",
        "items_dataset.head()"
      ],
      "metadata": {
        "colab": {
          "base_uri": "https://localhost:8080/",
          "height": 456
        },
        "id": "plVNdz9ip0bK",
        "outputId": "9caa1443-e06e-4321-a8d6-0c28e9ab0c68"
      },
      "execution_count": 10,
      "outputs": [
        {
          "output_type": "execute_result",
          "data": {
            "text/plain": [
              "   movie id        movie title release date  video release date  \\\n",
              "0         1   Toy Story (1995)  01-Jan-1995                 NaN   \n",
              "1         2   GoldenEye (1995)  01-Jan-1995                 NaN   \n",
              "2         3  Four Rooms (1995)  01-Jan-1995                 NaN   \n",
              "3         4  Get Shorty (1995)  01-Jan-1995                 NaN   \n",
              "4         5     Copycat (1995)  01-Jan-1995                 NaN   \n",
              "\n",
              "                                            IMDb URL  unknown  Action  \\\n",
              "0  http://us.imdb.com/M/title-exact?Toy%20Story%2...        0       0   \n",
              "1  http://us.imdb.com/M/title-exact?GoldenEye%20(...        0       1   \n",
              "2  http://us.imdb.com/M/title-exact?Four%20Rooms%...        0       0   \n",
              "3  http://us.imdb.com/M/title-exact?Get%20Shorty%...        0       1   \n",
              "4  http://us.imdb.com/M/title-exact?Copycat%20(1995)        0       0   \n",
              "\n",
              "   Adventure  Animation  Children  ...  Fantasy  Film-Noir  Horror  Musical  \\\n",
              "0          0          1         1  ...        0          0       0        0   \n",
              "1          1          0         0  ...        0          0       0        0   \n",
              "2          0          0         0  ...        0          0       0        0   \n",
              "3          0          0         0  ...        0          0       0        0   \n",
              "4          0          0         0  ...        0          0       0        0   \n",
              "\n",
              "   Mystery  Romance  Sci-Fi  Thriller  War  Western  \n",
              "0        0        0       0         0    0        0  \n",
              "1        0        0       0         1    0        0  \n",
              "2        0        0       0         1    0        0  \n",
              "3        0        0       0         0    0        0  \n",
              "4        0        0       0         1    0        0  \n",
              "\n",
              "[5 rows x 24 columns]"
            ],
            "text/html": [
              "\n",
              "  <div id=\"df-afead72b-f6b7-4edf-a09d-eba06bbfdd6c\">\n",
              "    <div class=\"colab-df-container\">\n",
              "      <div>\n",
              "<style scoped>\n",
              "    .dataframe tbody tr th:only-of-type {\n",
              "        vertical-align: middle;\n",
              "    }\n",
              "\n",
              "    .dataframe tbody tr th {\n",
              "        vertical-align: top;\n",
              "    }\n",
              "\n",
              "    .dataframe thead th {\n",
              "        text-align: right;\n",
              "    }\n",
              "</style>\n",
              "<table border=\"1\" class=\"dataframe\">\n",
              "  <thead>\n",
              "    <tr style=\"text-align: right;\">\n",
              "      <th></th>\n",
              "      <th>movie id</th>\n",
              "      <th>movie title</th>\n",
              "      <th>release date</th>\n",
              "      <th>video release date</th>\n",
              "      <th>IMDb URL</th>\n",
              "      <th>unknown</th>\n",
              "      <th>Action</th>\n",
              "      <th>Adventure</th>\n",
              "      <th>Animation</th>\n",
              "      <th>Children</th>\n",
              "      <th>...</th>\n",
              "      <th>Fantasy</th>\n",
              "      <th>Film-Noir</th>\n",
              "      <th>Horror</th>\n",
              "      <th>Musical</th>\n",
              "      <th>Mystery</th>\n",
              "      <th>Romance</th>\n",
              "      <th>Sci-Fi</th>\n",
              "      <th>Thriller</th>\n",
              "      <th>War</th>\n",
              "      <th>Western</th>\n",
              "    </tr>\n",
              "  </thead>\n",
              "  <tbody>\n",
              "    <tr>\n",
              "      <th>0</th>\n",
              "      <td>1</td>\n",
              "      <td>Toy Story (1995)</td>\n",
              "      <td>01-Jan-1995</td>\n",
              "      <td>NaN</td>\n",
              "      <td>http://us.imdb.com/M/title-exact?Toy%20Story%2...</td>\n",
              "      <td>0</td>\n",
              "      <td>0</td>\n",
              "      <td>0</td>\n",
              "      <td>1</td>\n",
              "      <td>1</td>\n",
              "      <td>...</td>\n",
              "      <td>0</td>\n",
              "      <td>0</td>\n",
              "      <td>0</td>\n",
              "      <td>0</td>\n",
              "      <td>0</td>\n",
              "      <td>0</td>\n",
              "      <td>0</td>\n",
              "      <td>0</td>\n",
              "      <td>0</td>\n",
              "      <td>0</td>\n",
              "    </tr>\n",
              "    <tr>\n",
              "      <th>1</th>\n",
              "      <td>2</td>\n",
              "      <td>GoldenEye (1995)</td>\n",
              "      <td>01-Jan-1995</td>\n",
              "      <td>NaN</td>\n",
              "      <td>http://us.imdb.com/M/title-exact?GoldenEye%20(...</td>\n",
              "      <td>0</td>\n",
              "      <td>1</td>\n",
              "      <td>1</td>\n",
              "      <td>0</td>\n",
              "      <td>0</td>\n",
              "      <td>...</td>\n",
              "      <td>0</td>\n",
              "      <td>0</td>\n",
              "      <td>0</td>\n",
              "      <td>0</td>\n",
              "      <td>0</td>\n",
              "      <td>0</td>\n",
              "      <td>0</td>\n",
              "      <td>1</td>\n",
              "      <td>0</td>\n",
              "      <td>0</td>\n",
              "    </tr>\n",
              "    <tr>\n",
              "      <th>2</th>\n",
              "      <td>3</td>\n",
              "      <td>Four Rooms (1995)</td>\n",
              "      <td>01-Jan-1995</td>\n",
              "      <td>NaN</td>\n",
              "      <td>http://us.imdb.com/M/title-exact?Four%20Rooms%...</td>\n",
              "      <td>0</td>\n",
              "      <td>0</td>\n",
              "      <td>0</td>\n",
              "      <td>0</td>\n",
              "      <td>0</td>\n",
              "      <td>...</td>\n",
              "      <td>0</td>\n",
              "      <td>0</td>\n",
              "      <td>0</td>\n",
              "      <td>0</td>\n",
              "      <td>0</td>\n",
              "      <td>0</td>\n",
              "      <td>0</td>\n",
              "      <td>1</td>\n",
              "      <td>0</td>\n",
              "      <td>0</td>\n",
              "    </tr>\n",
              "    <tr>\n",
              "      <th>3</th>\n",
              "      <td>4</td>\n",
              "      <td>Get Shorty (1995)</td>\n",
              "      <td>01-Jan-1995</td>\n",
              "      <td>NaN</td>\n",
              "      <td>http://us.imdb.com/M/title-exact?Get%20Shorty%...</td>\n",
              "      <td>0</td>\n",
              "      <td>1</td>\n",
              "      <td>0</td>\n",
              "      <td>0</td>\n",
              "      <td>0</td>\n",
              "      <td>...</td>\n",
              "      <td>0</td>\n",
              "      <td>0</td>\n",
              "      <td>0</td>\n",
              "      <td>0</td>\n",
              "      <td>0</td>\n",
              "      <td>0</td>\n",
              "      <td>0</td>\n",
              "      <td>0</td>\n",
              "      <td>0</td>\n",
              "      <td>0</td>\n",
              "    </tr>\n",
              "    <tr>\n",
              "      <th>4</th>\n",
              "      <td>5</td>\n",
              "      <td>Copycat (1995)</td>\n",
              "      <td>01-Jan-1995</td>\n",
              "      <td>NaN</td>\n",
              "      <td>http://us.imdb.com/M/title-exact?Copycat%20(1995)</td>\n",
              "      <td>0</td>\n",
              "      <td>0</td>\n",
              "      <td>0</td>\n",
              "      <td>0</td>\n",
              "      <td>0</td>\n",
              "      <td>...</td>\n",
              "      <td>0</td>\n",
              "      <td>0</td>\n",
              "      <td>0</td>\n",
              "      <td>0</td>\n",
              "      <td>0</td>\n",
              "      <td>0</td>\n",
              "      <td>0</td>\n",
              "      <td>1</td>\n",
              "      <td>0</td>\n",
              "      <td>0</td>\n",
              "    </tr>\n",
              "  </tbody>\n",
              "</table>\n",
              "<p>5 rows × 24 columns</p>\n",
              "</div>\n",
              "      <button class=\"colab-df-convert\" onclick=\"convertToInteractive('df-afead72b-f6b7-4edf-a09d-eba06bbfdd6c')\"\n",
              "              title=\"Convert this dataframe to an interactive table.\"\n",
              "              style=\"display:none;\">\n",
              "        \n",
              "  <svg xmlns=\"http://www.w3.org/2000/svg\" height=\"24px\"viewBox=\"0 0 24 24\"\n",
              "       width=\"24px\">\n",
              "    <path d=\"M0 0h24v24H0V0z\" fill=\"none\"/>\n",
              "    <path d=\"M18.56 5.44l.94 2.06.94-2.06 2.06-.94-2.06-.94-.94-2.06-.94 2.06-2.06.94zm-11 1L8.5 8.5l.94-2.06 2.06-.94-2.06-.94L8.5 2.5l-.94 2.06-2.06.94zm10 10l.94 2.06.94-2.06 2.06-.94-2.06-.94-.94-2.06-.94 2.06-2.06.94z\"/><path d=\"M17.41 7.96l-1.37-1.37c-.4-.4-.92-.59-1.43-.59-.52 0-1.04.2-1.43.59L10.3 9.45l-7.72 7.72c-.78.78-.78 2.05 0 2.83L4 21.41c.39.39.9.59 1.41.59.51 0 1.02-.2 1.41-.59l7.78-7.78 2.81-2.81c.8-.78.8-2.07 0-2.86zM5.41 20L4 18.59l7.72-7.72 1.47 1.35L5.41 20z\"/>\n",
              "  </svg>\n",
              "      </button>\n",
              "      \n",
              "  <style>\n",
              "    .colab-df-container {\n",
              "      display:flex;\n",
              "      flex-wrap:wrap;\n",
              "      gap: 12px;\n",
              "    }\n",
              "\n",
              "    .colab-df-convert {\n",
              "      background-color: #E8F0FE;\n",
              "      border: none;\n",
              "      border-radius: 50%;\n",
              "      cursor: pointer;\n",
              "      display: none;\n",
              "      fill: #1967D2;\n",
              "      height: 32px;\n",
              "      padding: 0 0 0 0;\n",
              "      width: 32px;\n",
              "    }\n",
              "\n",
              "    .colab-df-convert:hover {\n",
              "      background-color: #E2EBFA;\n",
              "      box-shadow: 0px 1px 2px rgba(60, 64, 67, 0.3), 0px 1px 3px 1px rgba(60, 64, 67, 0.15);\n",
              "      fill: #174EA6;\n",
              "    }\n",
              "\n",
              "    [theme=dark] .colab-df-convert {\n",
              "      background-color: #3B4455;\n",
              "      fill: #D2E3FC;\n",
              "    }\n",
              "\n",
              "    [theme=dark] .colab-df-convert:hover {\n",
              "      background-color: #434B5C;\n",
              "      box-shadow: 0px 1px 3px 1px rgba(0, 0, 0, 0.15);\n",
              "      filter: drop-shadow(0px 1px 2px rgba(0, 0, 0, 0.3));\n",
              "      fill: #FFFFFF;\n",
              "    }\n",
              "  </style>\n",
              "\n",
              "      <script>\n",
              "        const buttonEl =\n",
              "          document.querySelector('#df-afead72b-f6b7-4edf-a09d-eba06bbfdd6c button.colab-df-convert');\n",
              "        buttonEl.style.display =\n",
              "          google.colab.kernel.accessAllowed ? 'block' : 'none';\n",
              "\n",
              "        async function convertToInteractive(key) {\n",
              "          const element = document.querySelector('#df-afead72b-f6b7-4edf-a09d-eba06bbfdd6c');\n",
              "          const dataTable =\n",
              "            await google.colab.kernel.invokeFunction('convertToInteractive',\n",
              "                                                     [key], {});\n",
              "          if (!dataTable) return;\n",
              "\n",
              "          const docLinkHtml = 'Like what you see? Visit the ' +\n",
              "            '<a target=\"_blank\" href=https://colab.research.google.com/notebooks/data_table.ipynb>data table notebook</a>'\n",
              "            + ' to learn more about interactive tables.';\n",
              "          element.innerHTML = '';\n",
              "          dataTable['output_type'] = 'display_data';\n",
              "          await google.colab.output.renderOutput(dataTable, element);\n",
              "          const docLink = document.createElement('div');\n",
              "          docLink.innerHTML = docLinkHtml;\n",
              "          element.appendChild(docLink);\n",
              "        }\n",
              "      </script>\n",
              "    </div>\n",
              "  </div>\n",
              "  "
            ]
          },
          "metadata": {},
          "execution_count": 10
        }
      ]
    },
    {
      "cell_type": "markdown",
      "source": [
        "**Sneak peak -> Movie data**"
      ],
      "metadata": {
        "id": "gifl3mZ3r5_S"
      }
    },
    {
      "cell_type": "code",
      "source": [
        "movie_dataset = items_dataset[['movie id', 'movie title']]\n",
        "movie_dataset.head()"
      ],
      "metadata": {
        "colab": {
          "base_uri": "https://localhost:8080/",
          "height": 206
        },
        "id": "BYUfKwFzrnsH",
        "outputId": "4a66856d-a5d4-4b47-bce0-d65b0883487f"
      },
      "execution_count": 11,
      "outputs": [
        {
          "output_type": "execute_result",
          "data": {
            "text/plain": [
              "   movie id        movie title\n",
              "0         1   Toy Story (1995)\n",
              "1         2   GoldenEye (1995)\n",
              "2         3  Four Rooms (1995)\n",
              "3         4  Get Shorty (1995)\n",
              "4         5     Copycat (1995)"
            ],
            "text/html": [
              "\n",
              "  <div id=\"df-527f2361-f8ab-481e-9696-1b2a7b47756a\">\n",
              "    <div class=\"colab-df-container\">\n",
              "      <div>\n",
              "<style scoped>\n",
              "    .dataframe tbody tr th:only-of-type {\n",
              "        vertical-align: middle;\n",
              "    }\n",
              "\n",
              "    .dataframe tbody tr th {\n",
              "        vertical-align: top;\n",
              "    }\n",
              "\n",
              "    .dataframe thead th {\n",
              "        text-align: right;\n",
              "    }\n",
              "</style>\n",
              "<table border=\"1\" class=\"dataframe\">\n",
              "  <thead>\n",
              "    <tr style=\"text-align: right;\">\n",
              "      <th></th>\n",
              "      <th>movie id</th>\n",
              "      <th>movie title</th>\n",
              "    </tr>\n",
              "  </thead>\n",
              "  <tbody>\n",
              "    <tr>\n",
              "      <th>0</th>\n",
              "      <td>1</td>\n",
              "      <td>Toy Story (1995)</td>\n",
              "    </tr>\n",
              "    <tr>\n",
              "      <th>1</th>\n",
              "      <td>2</td>\n",
              "      <td>GoldenEye (1995)</td>\n",
              "    </tr>\n",
              "    <tr>\n",
              "      <th>2</th>\n",
              "      <td>3</td>\n",
              "      <td>Four Rooms (1995)</td>\n",
              "    </tr>\n",
              "    <tr>\n",
              "      <th>3</th>\n",
              "      <td>4</td>\n",
              "      <td>Get Shorty (1995)</td>\n",
              "    </tr>\n",
              "    <tr>\n",
              "      <th>4</th>\n",
              "      <td>5</td>\n",
              "      <td>Copycat (1995)</td>\n",
              "    </tr>\n",
              "  </tbody>\n",
              "</table>\n",
              "</div>\n",
              "      <button class=\"colab-df-convert\" onclick=\"convertToInteractive('df-527f2361-f8ab-481e-9696-1b2a7b47756a')\"\n",
              "              title=\"Convert this dataframe to an interactive table.\"\n",
              "              style=\"display:none;\">\n",
              "        \n",
              "  <svg xmlns=\"http://www.w3.org/2000/svg\" height=\"24px\"viewBox=\"0 0 24 24\"\n",
              "       width=\"24px\">\n",
              "    <path d=\"M0 0h24v24H0V0z\" fill=\"none\"/>\n",
              "    <path d=\"M18.56 5.44l.94 2.06.94-2.06 2.06-.94-2.06-.94-.94-2.06-.94 2.06-2.06.94zm-11 1L8.5 8.5l.94-2.06 2.06-.94-2.06-.94L8.5 2.5l-.94 2.06-2.06.94zm10 10l.94 2.06.94-2.06 2.06-.94-2.06-.94-.94-2.06-.94 2.06-2.06.94z\"/><path d=\"M17.41 7.96l-1.37-1.37c-.4-.4-.92-.59-1.43-.59-.52 0-1.04.2-1.43.59L10.3 9.45l-7.72 7.72c-.78.78-.78 2.05 0 2.83L4 21.41c.39.39.9.59 1.41.59.51 0 1.02-.2 1.41-.59l7.78-7.78 2.81-2.81c.8-.78.8-2.07 0-2.86zM5.41 20L4 18.59l7.72-7.72 1.47 1.35L5.41 20z\"/>\n",
              "  </svg>\n",
              "      </button>\n",
              "      \n",
              "  <style>\n",
              "    .colab-df-container {\n",
              "      display:flex;\n",
              "      flex-wrap:wrap;\n",
              "      gap: 12px;\n",
              "    }\n",
              "\n",
              "    .colab-df-convert {\n",
              "      background-color: #E8F0FE;\n",
              "      border: none;\n",
              "      border-radius: 50%;\n",
              "      cursor: pointer;\n",
              "      display: none;\n",
              "      fill: #1967D2;\n",
              "      height: 32px;\n",
              "      padding: 0 0 0 0;\n",
              "      width: 32px;\n",
              "    }\n",
              "\n",
              "    .colab-df-convert:hover {\n",
              "      background-color: #E2EBFA;\n",
              "      box-shadow: 0px 1px 2px rgba(60, 64, 67, 0.3), 0px 1px 3px 1px rgba(60, 64, 67, 0.15);\n",
              "      fill: #174EA6;\n",
              "    }\n",
              "\n",
              "    [theme=dark] .colab-df-convert {\n",
              "      background-color: #3B4455;\n",
              "      fill: #D2E3FC;\n",
              "    }\n",
              "\n",
              "    [theme=dark] .colab-df-convert:hover {\n",
              "      background-color: #434B5C;\n",
              "      box-shadow: 0px 1px 3px 1px rgba(0, 0, 0, 0.15);\n",
              "      filter: drop-shadow(0px 1px 2px rgba(0, 0, 0, 0.3));\n",
              "      fill: #FFFFFF;\n",
              "    }\n",
              "  </style>\n",
              "\n",
              "      <script>\n",
              "        const buttonEl =\n",
              "          document.querySelector('#df-527f2361-f8ab-481e-9696-1b2a7b47756a button.colab-df-convert');\n",
              "        buttonEl.style.display =\n",
              "          google.colab.kernel.accessAllowed ? 'block' : 'none';\n",
              "\n",
              "        async function convertToInteractive(key) {\n",
              "          const element = document.querySelector('#df-527f2361-f8ab-481e-9696-1b2a7b47756a');\n",
              "          const dataTable =\n",
              "            await google.colab.kernel.invokeFunction('convertToInteractive',\n",
              "                                                     [key], {});\n",
              "          if (!dataTable) return;\n",
              "\n",
              "          const docLinkHtml = 'Like what you see? Visit the ' +\n",
              "            '<a target=\"_blank\" href=https://colab.research.google.com/notebooks/data_table.ipynb>data table notebook</a>'\n",
              "            + ' to learn more about interactive tables.';\n",
              "          element.innerHTML = '';\n",
              "          dataTable['output_type'] = 'display_data';\n",
              "          await google.colab.output.renderOutput(dataTable, element);\n",
              "          const docLink = document.createElement('div');\n",
              "          docLink.innerHTML = docLinkHtml;\n",
              "          element.appendChild(docLink);\n",
              "        }\n",
              "      </script>\n",
              "    </div>\n",
              "  </div>\n",
              "  "
            ]
          },
          "metadata": {},
          "execution_count": 11
        }
      ]
    },
    {
      "cell_type": "markdown",
      "source": [
        "**Sneak peak -> movie data part 2**"
      ],
      "metadata": {
        "id": "1ml9Omhttb4C"
      }
    },
    {
      "cell_type": "code",
      "source": [
        "m_cols = ['Movie_ID', 'Title', 'Release_Date', 'Video_Release_Date', 'IMDB_URL']\n",
        "movies = pd.read_csv('/content/ml-100k/u.item', sep='|', names=m_cols, usecols=range(5),encoding='latin-1')\n",
        "movies.head(10)"
      ],
      "metadata": {
        "colab": {
          "base_uri": "https://localhost:8080/",
          "height": 580
        },
        "id": "9iR6_cD_tcY-",
        "outputId": "0415e3f1-d4d7-4045-81c1-1c5bb60a2359"
      },
      "execution_count": 12,
      "outputs": [
        {
          "output_type": "execute_result",
          "data": {
            "text/plain": [
              "   Movie_ID                                              Title Release_Date  \\\n",
              "0         1                                   Toy Story (1995)  01-Jan-1995   \n",
              "1         2                                   GoldenEye (1995)  01-Jan-1995   \n",
              "2         3                                  Four Rooms (1995)  01-Jan-1995   \n",
              "3         4                                  Get Shorty (1995)  01-Jan-1995   \n",
              "4         5                                     Copycat (1995)  01-Jan-1995   \n",
              "5         6  Shanghai Triad (Yao a yao yao dao waipo qiao) ...  01-Jan-1995   \n",
              "6         7                              Twelve Monkeys (1995)  01-Jan-1995   \n",
              "7         8                                        Babe (1995)  01-Jan-1995   \n",
              "8         9                            Dead Man Walking (1995)  01-Jan-1995   \n",
              "9        10                                 Richard III (1995)  22-Jan-1996   \n",
              "\n",
              "   Video_Release_Date                                           IMDB_URL  \n",
              "0                 NaN  http://us.imdb.com/M/title-exact?Toy%20Story%2...  \n",
              "1                 NaN  http://us.imdb.com/M/title-exact?GoldenEye%20(...  \n",
              "2                 NaN  http://us.imdb.com/M/title-exact?Four%20Rooms%...  \n",
              "3                 NaN  http://us.imdb.com/M/title-exact?Get%20Shorty%...  \n",
              "4                 NaN  http://us.imdb.com/M/title-exact?Copycat%20(1995)  \n",
              "5                 NaN  http://us.imdb.com/Title?Yao+a+yao+yao+dao+wai...  \n",
              "6                 NaN  http://us.imdb.com/M/title-exact?Twelve%20Monk...  \n",
              "7                 NaN     http://us.imdb.com/M/title-exact?Babe%20(1995)  \n",
              "8                 NaN  http://us.imdb.com/M/title-exact?Dead%20Man%20...  \n",
              "9                 NaN  http://us.imdb.com/M/title-exact?Richard%20III...  "
            ],
            "text/html": [
              "\n",
              "  <div id=\"df-bebeabce-ed0a-42fb-b888-b0274d94d61c\">\n",
              "    <div class=\"colab-df-container\">\n",
              "      <div>\n",
              "<style scoped>\n",
              "    .dataframe tbody tr th:only-of-type {\n",
              "        vertical-align: middle;\n",
              "    }\n",
              "\n",
              "    .dataframe tbody tr th {\n",
              "        vertical-align: top;\n",
              "    }\n",
              "\n",
              "    .dataframe thead th {\n",
              "        text-align: right;\n",
              "    }\n",
              "</style>\n",
              "<table border=\"1\" class=\"dataframe\">\n",
              "  <thead>\n",
              "    <tr style=\"text-align: right;\">\n",
              "      <th></th>\n",
              "      <th>Movie_ID</th>\n",
              "      <th>Title</th>\n",
              "      <th>Release_Date</th>\n",
              "      <th>Video_Release_Date</th>\n",
              "      <th>IMDB_URL</th>\n",
              "    </tr>\n",
              "  </thead>\n",
              "  <tbody>\n",
              "    <tr>\n",
              "      <th>0</th>\n",
              "      <td>1</td>\n",
              "      <td>Toy Story (1995)</td>\n",
              "      <td>01-Jan-1995</td>\n",
              "      <td>NaN</td>\n",
              "      <td>http://us.imdb.com/M/title-exact?Toy%20Story%2...</td>\n",
              "    </tr>\n",
              "    <tr>\n",
              "      <th>1</th>\n",
              "      <td>2</td>\n",
              "      <td>GoldenEye (1995)</td>\n",
              "      <td>01-Jan-1995</td>\n",
              "      <td>NaN</td>\n",
              "      <td>http://us.imdb.com/M/title-exact?GoldenEye%20(...</td>\n",
              "    </tr>\n",
              "    <tr>\n",
              "      <th>2</th>\n",
              "      <td>3</td>\n",
              "      <td>Four Rooms (1995)</td>\n",
              "      <td>01-Jan-1995</td>\n",
              "      <td>NaN</td>\n",
              "      <td>http://us.imdb.com/M/title-exact?Four%20Rooms%...</td>\n",
              "    </tr>\n",
              "    <tr>\n",
              "      <th>3</th>\n",
              "      <td>4</td>\n",
              "      <td>Get Shorty (1995)</td>\n",
              "      <td>01-Jan-1995</td>\n",
              "      <td>NaN</td>\n",
              "      <td>http://us.imdb.com/M/title-exact?Get%20Shorty%...</td>\n",
              "    </tr>\n",
              "    <tr>\n",
              "      <th>4</th>\n",
              "      <td>5</td>\n",
              "      <td>Copycat (1995)</td>\n",
              "      <td>01-Jan-1995</td>\n",
              "      <td>NaN</td>\n",
              "      <td>http://us.imdb.com/M/title-exact?Copycat%20(1995)</td>\n",
              "    </tr>\n",
              "    <tr>\n",
              "      <th>5</th>\n",
              "      <td>6</td>\n",
              "      <td>Shanghai Triad (Yao a yao yao dao waipo qiao) ...</td>\n",
              "      <td>01-Jan-1995</td>\n",
              "      <td>NaN</td>\n",
              "      <td>http://us.imdb.com/Title?Yao+a+yao+yao+dao+wai...</td>\n",
              "    </tr>\n",
              "    <tr>\n",
              "      <th>6</th>\n",
              "      <td>7</td>\n",
              "      <td>Twelve Monkeys (1995)</td>\n",
              "      <td>01-Jan-1995</td>\n",
              "      <td>NaN</td>\n",
              "      <td>http://us.imdb.com/M/title-exact?Twelve%20Monk...</td>\n",
              "    </tr>\n",
              "    <tr>\n",
              "      <th>7</th>\n",
              "      <td>8</td>\n",
              "      <td>Babe (1995)</td>\n",
              "      <td>01-Jan-1995</td>\n",
              "      <td>NaN</td>\n",
              "      <td>http://us.imdb.com/M/title-exact?Babe%20(1995)</td>\n",
              "    </tr>\n",
              "    <tr>\n",
              "      <th>8</th>\n",
              "      <td>9</td>\n",
              "      <td>Dead Man Walking (1995)</td>\n",
              "      <td>01-Jan-1995</td>\n",
              "      <td>NaN</td>\n",
              "      <td>http://us.imdb.com/M/title-exact?Dead%20Man%20...</td>\n",
              "    </tr>\n",
              "    <tr>\n",
              "      <th>9</th>\n",
              "      <td>10</td>\n",
              "      <td>Richard III (1995)</td>\n",
              "      <td>22-Jan-1996</td>\n",
              "      <td>NaN</td>\n",
              "      <td>http://us.imdb.com/M/title-exact?Richard%20III...</td>\n",
              "    </tr>\n",
              "  </tbody>\n",
              "</table>\n",
              "</div>\n",
              "      <button class=\"colab-df-convert\" onclick=\"convertToInteractive('df-bebeabce-ed0a-42fb-b888-b0274d94d61c')\"\n",
              "              title=\"Convert this dataframe to an interactive table.\"\n",
              "              style=\"display:none;\">\n",
              "        \n",
              "  <svg xmlns=\"http://www.w3.org/2000/svg\" height=\"24px\"viewBox=\"0 0 24 24\"\n",
              "       width=\"24px\">\n",
              "    <path d=\"M0 0h24v24H0V0z\" fill=\"none\"/>\n",
              "    <path d=\"M18.56 5.44l.94 2.06.94-2.06 2.06-.94-2.06-.94-.94-2.06-.94 2.06-2.06.94zm-11 1L8.5 8.5l.94-2.06 2.06-.94-2.06-.94L8.5 2.5l-.94 2.06-2.06.94zm10 10l.94 2.06.94-2.06 2.06-.94-2.06-.94-.94-2.06-.94 2.06-2.06.94z\"/><path d=\"M17.41 7.96l-1.37-1.37c-.4-.4-.92-.59-1.43-.59-.52 0-1.04.2-1.43.59L10.3 9.45l-7.72 7.72c-.78.78-.78 2.05 0 2.83L4 21.41c.39.39.9.59 1.41.59.51 0 1.02-.2 1.41-.59l7.78-7.78 2.81-2.81c.8-.78.8-2.07 0-2.86zM5.41 20L4 18.59l7.72-7.72 1.47 1.35L5.41 20z\"/>\n",
              "  </svg>\n",
              "      </button>\n",
              "      \n",
              "  <style>\n",
              "    .colab-df-container {\n",
              "      display:flex;\n",
              "      flex-wrap:wrap;\n",
              "      gap: 12px;\n",
              "    }\n",
              "\n",
              "    .colab-df-convert {\n",
              "      background-color: #E8F0FE;\n",
              "      border: none;\n",
              "      border-radius: 50%;\n",
              "      cursor: pointer;\n",
              "      display: none;\n",
              "      fill: #1967D2;\n",
              "      height: 32px;\n",
              "      padding: 0 0 0 0;\n",
              "      width: 32px;\n",
              "    }\n",
              "\n",
              "    .colab-df-convert:hover {\n",
              "      background-color: #E2EBFA;\n",
              "      box-shadow: 0px 1px 2px rgba(60, 64, 67, 0.3), 0px 1px 3px 1px rgba(60, 64, 67, 0.15);\n",
              "      fill: #174EA6;\n",
              "    }\n",
              "\n",
              "    [theme=dark] .colab-df-convert {\n",
              "      background-color: #3B4455;\n",
              "      fill: #D2E3FC;\n",
              "    }\n",
              "\n",
              "    [theme=dark] .colab-df-convert:hover {\n",
              "      background-color: #434B5C;\n",
              "      box-shadow: 0px 1px 3px 1px rgba(0, 0, 0, 0.15);\n",
              "      filter: drop-shadow(0px 1px 2px rgba(0, 0, 0, 0.3));\n",
              "      fill: #FFFFFF;\n",
              "    }\n",
              "  </style>\n",
              "\n",
              "      <script>\n",
              "        const buttonEl =\n",
              "          document.querySelector('#df-bebeabce-ed0a-42fb-b888-b0274d94d61c button.colab-df-convert');\n",
              "        buttonEl.style.display =\n",
              "          google.colab.kernel.accessAllowed ? 'block' : 'none';\n",
              "\n",
              "        async function convertToInteractive(key) {\n",
              "          const element = document.querySelector('#df-bebeabce-ed0a-42fb-b888-b0274d94d61c');\n",
              "          const dataTable =\n",
              "            await google.colab.kernel.invokeFunction('convertToInteractive',\n",
              "                                                     [key], {});\n",
              "          if (!dataTable) return;\n",
              "\n",
              "          const docLinkHtml = 'Like what you see? Visit the ' +\n",
              "            '<a target=\"_blank\" href=https://colab.research.google.com/notebooks/data_table.ipynb>data table notebook</a>'\n",
              "            + ' to learn more about interactive tables.';\n",
              "          element.innerHTML = '';\n",
              "          dataTable['output_type'] = 'display_data';\n",
              "          await google.colab.output.renderOutput(dataTable, element);\n",
              "          const docLink = document.createElement('div');\n",
              "          docLink.innerHTML = docLinkHtml;\n",
              "          element.appendChild(docLink);\n",
              "        }\n",
              "      </script>\n",
              "    </div>\n",
              "  </div>\n",
              "  "
            ]
          },
          "metadata": {},
          "execution_count": 12
        }
      ]
    },
    {
      "cell_type": "markdown",
      "source": [
        "**Prepping input data**"
      ],
      "metadata": {
        "id": "mgNNr_VRUj42"
      }
    },
    {
      "cell_type": "code",
      "source": [
        "data_matrix_torch = torch.FloatTensor(data_matrix).to(device)"
      ],
      "metadata": {
        "id": "lZdpPSQs6sqE"
      },
      "execution_count": 13,
      "outputs": []
    },
    {
      "cell_type": "markdown",
      "source": [
        "**Stacked Autoencoder model**"
      ],
      "metadata": {
        "id": "UWqgkPn3Ummt"
      }
    },
    {
      "cell_type": "code",
      "source": [
        "class SAE(nn.Module):\n",
        "    def __init__(self, ):\n",
        "        super(SAE, self).__init__()\n",
        "        self.fc1 = nn.Linear(nb_movies, 50)\n",
        "        self.fc2 = nn.Linear(50, 10)\n",
        "        self.fc3 = nn.Linear(10, 50)\n",
        "        self.fc4 = nn.Linear(50, nb_movies)\n",
        "        self.activation = nn.Sigmoid()\n",
        "        \n",
        "    def forward(self, x):\n",
        "        x = self.activation(self.fc1(x))\n",
        "        x = self.activation(self.fc2(x))\n",
        "        x = self.activation(self.fc3(x))\n",
        "        x = self.fc4(x)\n",
        "        return x\n",
        "    \n",
        "    def prediction(self, x):\n",
        "        pred = self.forward(x)\n",
        "        return pred.detach().numpy()\n",
        "    \n",
        "model = SAE().to(device)\n",
        "criterion = nn.MSELoss()\n",
        "optimizer = optim.RMSprop(model.parameters(), lr=0.01, weight_decay=0.5)"
      ],
      "metadata": {
        "id": "pqCcS__E617N"
      },
      "execution_count": 14,
      "outputs": []
    },
    {
      "cell_type": "markdown",
      "source": [
        "**Model Summary**"
      ],
      "metadata": {
        "id": "GHdiS6HBkAUY"
      }
    },
    {
      "cell_type": "code",
      "source": [
        "summary(model, (943, 1682))"
      ],
      "metadata": {
        "colab": {
          "base_uri": "https://localhost:8080/"
        },
        "id": "h8M2OsfJFz4C",
        "outputId": "6b715c79-9d25-49ed-87ac-864f78fc3a51"
      },
      "execution_count": 15,
      "outputs": [
        {
          "output_type": "stream",
          "name": "stdout",
          "text": [
            "----------------------------------------------------------------\n",
            "        Layer (type)               Output Shape         Param #\n",
            "================================================================\n",
            "            Linear-1              [-1, 943, 50]          84,150\n",
            "           Sigmoid-2              [-1, 943, 50]               0\n",
            "            Linear-3              [-1, 943, 10]             510\n",
            "           Sigmoid-4              [-1, 943, 10]               0\n",
            "            Linear-5              [-1, 943, 50]             550\n",
            "           Sigmoid-6              [-1, 943, 50]               0\n",
            "            Linear-7            [-1, 943, 1682]          85,782\n",
            "================================================================\n",
            "Total params: 170,992\n",
            "Trainable params: 170,992\n",
            "Non-trainable params: 0\n",
            "----------------------------------------------------------------\n",
            "Input size (MB): 6.05\n",
            "Forward/backward pass size (MB): 13.68\n",
            "Params size (MB): 0.65\n",
            "Estimated Total Size (MB): 20.39\n",
            "----------------------------------------------------------------\n"
          ]
        }
      ]
    },
    {
      "cell_type": "markdown",
      "source": [
        "**Training the model**"
      ],
      "metadata": {
        "id": "mTQlh6e8UqAx"
      }
    },
    {
      "cell_type": "code",
      "source": [
        "nb_epoch = 1000\n",
        "nb_users = users['User ID'].nunique()\n",
        "save_train_loss = []\n",
        "epoch_num = []\n",
        "\n",
        "min_train_loss = 1000\n",
        "forgive = 30\n",
        "forgive_count = 0\n",
        "\n",
        "model.train()\n",
        "torch.backends.cudnn.benchmark = True\n",
        "for epoch in range(1, nb_epoch + 1):\n",
        "    train_loss = 0\n",
        "    steps = 0\n",
        "    for id_user in range(nb_users):\n",
        "        input = Variable(data_matrix_torch[id_user]).unsqueeze(0)\n",
        "        target = input.clone()\n",
        "        if torch.sum(target.data > 0) > 0:\n",
        "            output = model(input)\n",
        "            target.require_grad = False\n",
        "            output[target == 0] = 0\n",
        "            loss = criterion(output, target)\n",
        "            mean_corrector = nb_movies/float(torch.sum(target.data > 0) + 1e-10)\n",
        "            loss.backward()\n",
        "            train_loss += np.sqrt((loss.data * mean_corrector).cpu())\n",
        "            steps += 1\n",
        "            optimizer.step()\n",
        "\n",
        "    epoch_train_loss = (train_loss/steps).item()\n",
        "    if epoch%10 == 0:\n",
        "        print(f'epoch #{str(epoch)} loss: {epoch_train_loss:.5f}')\n",
        "\n",
        "    \n",
        "    if min_train_loss >= (train_loss/steps).item():\n",
        "        min_train_loss = (train_loss/steps).item()\n",
        "        forgive_count = 0\n",
        "    elif min_train_loss < (train_loss/steps).item():\n",
        "        forgive_count += 1\n",
        "    \n",
        "    save_train_loss.append(epoch_train_loss)\n",
        "    epoch_num.append(epoch)\n",
        "\n",
        "    if forgive_count > forgive:\n",
        "        print('Early stopping initiated')\n",
        "        print('-'*25)\n",
        "        print(f'epoch #{str(epoch)} loss: {epoch_train_loss:.5f}')\n",
        "        break"
      ],
      "metadata": {
        "colab": {
          "base_uri": "https://localhost:8080/"
        },
        "id": "GykVAnxN7IJ5",
        "outputId": "2e00b9f6-2aa9-49b0-9cd0-a212089b21de"
      },
      "execution_count": 16,
      "outputs": [
        {
          "output_type": "stream",
          "name": "stdout",
          "text": [
            "epoch #10 loss: 1.03993\n",
            "epoch #20 loss: 1.02102\n",
            "epoch #30 loss: 1.00044\n",
            "epoch #40 loss: 0.98168\n",
            "epoch #50 loss: 0.96935\n",
            "epoch #60 loss: 0.95517\n",
            "epoch #70 loss: 0.94476\n",
            "epoch #80 loss: 0.93831\n",
            "epoch #90 loss: 0.93084\n",
            "epoch #100 loss: 0.92680\n",
            "epoch #110 loss: 0.92228\n",
            "epoch #120 loss: 0.91818\n",
            "epoch #130 loss: 0.91140\n",
            "epoch #140 loss: 0.90205\n",
            "epoch #150 loss: 0.89633\n",
            "epoch #160 loss: 0.89203\n",
            "epoch #170 loss: 0.88798\n",
            "epoch #180 loss: 0.88414\n",
            "epoch #190 loss: 0.88134\n",
            "epoch #200 loss: 0.87662\n",
            "epoch #210 loss: 0.87415\n",
            "epoch #220 loss: 0.87205\n",
            "epoch #230 loss: 0.86901\n",
            "epoch #240 loss: 0.86662\n",
            "epoch #250 loss: 0.86453\n",
            "epoch #260 loss: 0.86269\n",
            "epoch #270 loss: 0.86061\n",
            "epoch #280 loss: 0.86189\n",
            "epoch #290 loss: 0.86155\n",
            "epoch #300 loss: 0.85573\n",
            "epoch #310 loss: 0.85278\n",
            "epoch #320 loss: 0.85097\n",
            "epoch #330 loss: 0.84823\n",
            "epoch #340 loss: 0.84576\n",
            "epoch #350 loss: 0.84340\n",
            "epoch #360 loss: 0.84098\n",
            "epoch #370 loss: 0.83877\n",
            "epoch #380 loss: 0.83658\n",
            "epoch #390 loss: 0.83380\n",
            "epoch #400 loss: 0.83180\n",
            "epoch #410 loss: 0.82875\n",
            "epoch #420 loss: 0.82694\n",
            "epoch #430 loss: 0.82428\n",
            "epoch #440 loss: 0.82335\n",
            "epoch #450 loss: 0.81931\n",
            "epoch #460 loss: 0.81705\n",
            "epoch #470 loss: 0.81537\n",
            "epoch #480 loss: 0.81236\n",
            "epoch #490 loss: 0.81009\n",
            "epoch #500 loss: 0.80742\n",
            "epoch #510 loss: 0.80539\n",
            "epoch #520 loss: 0.80317\n",
            "epoch #530 loss: 0.80084\n",
            "epoch #540 loss: 0.79875\n",
            "epoch #550 loss: 0.79595\n",
            "epoch #560 loss: 0.79406\n",
            "epoch #570 loss: 0.79111\n",
            "epoch #580 loss: 0.78939\n",
            "epoch #590 loss: 0.78685\n",
            "epoch #600 loss: 0.78531\n",
            "epoch #610 loss: 0.78309\n",
            "epoch #620 loss: 0.78033\n",
            "epoch #630 loss: 0.77799\n",
            "epoch #640 loss: 0.77538\n",
            "epoch #650 loss: 0.77322\n",
            "epoch #660 loss: 0.77077\n",
            "epoch #670 loss: 0.76815\n",
            "epoch #680 loss: 0.76559\n",
            "epoch #690 loss: 0.76322\n",
            "epoch #700 loss: 0.76078\n",
            "epoch #710 loss: 0.75836\n",
            "epoch #720 loss: 0.75868\n",
            "epoch #730 loss: 0.75376\n",
            "epoch #740 loss: 0.75072\n",
            "epoch #750 loss: 0.74842\n",
            "epoch #760 loss: 0.74786\n",
            "epoch #770 loss: 0.74361\n",
            "epoch #780 loss: 0.74201\n",
            "epoch #790 loss: 0.73894\n",
            "epoch #800 loss: 0.73705\n",
            "epoch #810 loss: 0.73452\n",
            "epoch #820 loss: 0.73927\n",
            "epoch #830 loss: 0.73434\n",
            "epoch #840 loss: 0.73571\n",
            "Early stopping initiated\n",
            "-------------------------\n",
            "epoch #844 loss: 0.76483\n"
          ]
        }
      ]
    },
    {
      "cell_type": "markdown",
      "source": [
        "**Chart for training loss**"
      ],
      "metadata": {
        "id": "NQIf-VY4oGwT"
      }
    },
    {
      "cell_type": "code",
      "source": [
        "plt.plot(epoch_num, save_train_loss, 'r', label='train')\n",
        "plt.title('Training Loss for SAE on MovieLens 100k')\n",
        "plt.ylabel('Loss')\n",
        "plt.xlabel('Epochs')\n",
        "plt.legend(loc='lower right')\n",
        "plt.rcParams['figure.figsize'] = [10, 5]\n",
        "plt.show()"
      ],
      "metadata": {
        "colab": {
          "base_uri": "https://localhost:8080/",
          "height": 295
        },
        "id": "pNBl13YioJbL",
        "outputId": "79759c01-cab6-487d-bfa8-9aa7370bc27a"
      },
      "execution_count": 17,
      "outputs": [
        {
          "output_type": "display_data",
          "data": {
            "text/plain": [
              "<Figure size 432x288 with 1 Axes>"
            ],
            "image/png": "[encoded data removed]"
          },
          "metadata": {
            "needs_background": "light"
          }
        }
      ]
    },
    {
      "cell_type": "markdown",
      "source": [
        "**Predict the ratings users will give to films they haven't seen yet**"
      ],
      "metadata": {
        "id": "qDTSmlVjkwBJ"
      }
    },
    {
      "cell_type": "code",
      "source": [
        "predict_SAE = np.zeros((nb_users, nb_movies))\n",
        "\n",
        "for id_user in range(nb_users):\n",
        "    input = Variable(data_matrix_torch[id_user]).unsqueeze(0)\n",
        "    predict_SAE[id_user] = model.cpu().prediction(input.cpu())\n",
        "\n",
        "#We will use predicted value if the entry is 0 in original rating matrix\n",
        "data_matrix_pred_SAE = np.where(data_matrix == 0, predict_SAE, data_matrix)\n",
        "\n",
        "for i in range(data_matrix_pred_SAE.shape[0]):\n",
        "    for j in range(data_matrix_pred_SAE.shape[1]):\n",
        "        data_matrix_pred_SAE[i, j] = round(data_matrix_pred_SAE[i, j])\n",
        "\n",
        "#For measuring the performance we have to use the predicted matrix\n",
        "X_pred = np.zeros((nb_users, nb_movies))\n",
        "for i in range(predict_SAE.shape[0]):\n",
        "    for j in range(predict_SAE.shape[1]):\n",
        "        X_pred[i, j] = round(predict_SAE[i, j])"
      ],
      "metadata": {
        "id": "WyUU3Y8R7KOQ"
      },
      "execution_count": 31,
      "outputs": []
    },
    {
      "cell_type": "markdown",
      "source": [
        "**Original rating matrix**"
      ],
      "metadata": {
        "id": "AzMC71C4k7vw"
      }
    },
    {
      "cell_type": "code",
      "source": [
        "print(\"Original Rating Matrix: \\n\", data_matrix)"
      ],
      "metadata": {
        "colab": {
          "base_uri": "https://localhost:8080/"
        },
        "id": "hC86ZLXi7MDU",
        "outputId": "98177360-1dd8-49f5-c6e0-e25c97b20a20"
      },
      "execution_count": 32,
      "outputs": [
        {
          "output_type": "stream",
          "name": "stdout",
          "text": [
            "Original Rating Matrix: \n",
            " [[5. 3. 4. ... 0. 0. 0.]\n",
            " [4. 0. 0. ... 0. 0. 0.]\n",
            " [0. 0. 0. ... 0. 0. 0.]\n",
            " ...\n",
            " [5. 0. 0. ... 0. 0. 0.]\n",
            " [0. 0. 0. ... 0. 0. 0.]\n",
            " [0. 5. 0. ... 0. 0. 0.]]\n"
          ]
        }
      ]
    },
    {
      "cell_type": "markdown",
      "source": [
        "**Predicted rating matrix**"
      ],
      "metadata": {
        "id": "vox_MVVZlC5E"
      }
    },
    {
      "cell_type": "code",
      "source": [
        "print(\"Rating Matrix after Applying Stacked Auto-Encoder: \\n\", data_matrix_pred_SAE)"
      ],
      "metadata": {
        "colab": {
          "base_uri": "https://localhost:8080/"
        },
        "id": "7NzLTTiU7NUv",
        "outputId": "88f275f5-c5bd-4306-fbad-ebc144499fba"
      },
      "execution_count": 33,
      "outputs": [
        {
          "output_type": "stream",
          "name": "stdout",
          "text": [
            "Rating Matrix after Applying Stacked Auto-Encoder: \n",
            " [[5. 3. 4. ... 2. 3. 3.]\n",
            " [4. 4. 3. ... 2. 3. 3.]\n",
            " [2. 2. 3. ... 2. 3. 3.]\n",
            " ...\n",
            " [5. 4. 3. ... 3. 4. 3.]\n",
            " [4. 4. 5. ... 3. 4. 4.]\n",
            " [4. 5. 3. ... 2. 3. 3.]]\n"
          ]
        }
      ]
    },
    {
      "cell_type": "markdown",
      "source": [
        "**RMSE of SAE model**"
      ],
      "metadata": {
        "id": "Tx6c_jUllNnz"
      }
    },
    {
      "cell_type": "code",
      "source": [
        "ind_matrix = np.zeros((nb_users, nb_movies))\n",
        "ind_matrix = np.where(data_matrix != 0, 1, 0)\n",
        "\n",
        "x = np.multiply(X_pred, ind_matrix)\n",
        "RMSE_SAE = np.sqrt(np.mean((x - data_matrix)**2))\n",
        "print(\"RMSE of SAE Model is %f.\" %RMSE_SAE)"
      ],
      "metadata": {
        "colab": {
          "base_uri": "https://localhost:8080/"
        },
        "id": "Lpg2DvKA7Ofn",
        "outputId": "7d57452a-2237-4af2-a6fd-78de2927a5ac"
      },
      "execution_count": 34,
      "outputs": [
        {
          "output_type": "stream",
          "name": "stdout",
          "text": [
            "RMSE of SAE Model is 0.213044.\n"
          ]
        }
      ]
    },
    {
      "cell_type": "markdown",
      "source": [
        "**Save a possible top 10 movies selection for all user**"
      ],
      "metadata": {
        "id": "IZ_TzhyqlVS3"
      }
    },
    {
      "cell_type": "code",
      "source": [
        "#Create an indicator matrix to ensure the movie was not rated previously\n",
        "ind_matrix = np.zeros((nb_users, nb_movies))\n",
        "ind_matrix = np.where(data_matrix == 0, 1, 0)\n",
        "\n",
        "#Multiply predicted rating matrix with this indicator matrix to consider\n",
        "#only the predicted ones\n",
        "pred = np.multiply(data_matrix_pred_SAE, ind_matrix)\n",
        "\n",
        "temp = []\n",
        "top10 = []\n",
        "\n",
        "# create list with top 10 movies of every person\n",
        "for person in range(nb_users):\n",
        "    flag = False\n",
        "    for rating in reversed(range(1,6)):\n",
        "        for idx in range(len(pred[0])):\n",
        "            if pred[person][idx] == rating:\n",
        "                temp.append(idx)\n",
        "                if len(temp) == 10:\n",
        "                    top10.append(temp)\n",
        "                    temp = []\n",
        "                    flag = True\n",
        "                    break\n",
        "        if flag:\n",
        "            break"
      ],
      "metadata": {
        "id": "epRi0Fq7RqWJ"
      },
      "execution_count": 35,
      "outputs": []
    },
    {
      "cell_type": "markdown",
      "source": [
        "**Show a possible top 10 movies selection for a random user**"
      ],
      "metadata": {
        "id": "OaKE0nynsRWc"
      }
    },
    {
      "cell_type": "code",
      "source": [
        "# Return a set of possible top 10 movies for any user\n",
        "user_id = np.random.randint(1,643)\n",
        "movie_recommend = movies[movies['Movie_ID'].isin(top10[user_id-1])]\n",
        "styles = [dict(selector=\"caption\", props=[(\"font-size\", \"200%\"), (\"font-weight\", \"bold\")])]\n",
        "movie_recommend = movie_recommend.style.set_caption(f'Possible Top 10 Movies for User {user_id}').set_table_styles(styles)\n",
        "movie_recommend"
      ],
      "metadata": {
        "id": "_AqM-2_RTHrg",
        "colab": {
          "base_uri": "https://localhost:8080/",
          "height": 502
        },
        "outputId": "9fb75d54-d6a9-4e9e-ca55-edb647de6ed4"
      },
      "execution_count": 37,
      "outputs": [
        {
          "output_type": "execute_result",
          "data": {
            "text/plain": [
              "<pandas.io.formats.style.Styler at 0x7fe3a3e88c90>"
            ],
            "text/html": [
              "<style type=\"text/css\">\n",
              "#T_a3385_ caption {\n",
              "  font-size: 200%;\n",
              "  font-weight: bold;\n",
              "}\n",
              "</style>\n",
              "<table id=\"T_a3385_\" class=\"dataframe\">\n",
              "  <caption>Possible Top 10 Movies for User 307</caption>\n",
              "  <thead>\n",
              "    <tr>\n",
              "      <th class=\"blank level0\" >&nbsp;</th>\n",
              "      <th class=\"col_heading level0 col0\" >Movie_ID</th>\n",
              "      <th class=\"col_heading level0 col1\" >Title</th>\n",
              "      <th class=\"col_heading level0 col2\" >Release_Date</th>\n",
              "      <th class=\"col_heading level0 col3\" >Video_Release_Date</th>\n",
              "      <th class=\"col_heading level0 col4\" >IMDB_URL</th>\n",
              "    </tr>\n",
              "  </thead>\n",
              "  <tbody>\n",
              "    <tr>\n",
              "      <th id=\"T_a3385_level0_row0\" class=\"row_heading level0 row0\" >7</th>\n",
              "      <td id=\"T_a3385_row0_col0\" class=\"data row0 col0\" >8</td>\n",
              "      <td id=\"T_a3385_row0_col1\" class=\"data row0 col1\" >Babe (1995)</td>\n",
              "      <td id=\"T_a3385_row0_col2\" class=\"data row0 col2\" >01-Jan-1995</td>\n",
              "      <td id=\"T_a3385_row0_col3\" class=\"data row0 col3\" >nan</td>\n",
              "      <td id=\"T_a3385_row0_col4\" class=\"data row0 col4\" >http://us.imdb.com/M/title-exact?Babe%20(1995)</td>\n",
              "    </tr>\n",
              "    <tr>\n",
              "      <th id=\"T_a3385_level0_row1\" class=\"row_heading level0 row1\" >10</th>\n",
              "      <td id=\"T_a3385_row1_col0\" class=\"data row1 col0\" >11</td>\n",
              "      <td id=\"T_a3385_row1_col1\" class=\"data row1 col1\" >Seven (Se7en) (1995)</td>\n",
              "      <td id=\"T_a3385_row1_col2\" class=\"data row1 col2\" >01-Jan-1995</td>\n",
              "      <td id=\"T_a3385_row1_col3\" class=\"data row1 col3\" >nan</td>\n",
              "      <td id=\"T_a3385_row1_col4\" class=\"data row1 col4\" >http://us.imdb.com/M/title-exact?Se7en%20(1995)</td>\n",
              "    </tr>\n",
              "    <tr>\n",
              "      <th id=\"T_a3385_level0_row2\" class=\"row_heading level0 row2\" >12</th>\n",
              "      <td id=\"T_a3385_row2_col0\" class=\"data row2 col0\" >13</td>\n",
              "      <td id=\"T_a3385_row2_col1\" class=\"data row2 col1\" >Mighty Aphrodite (1995)</td>\n",
              "      <td id=\"T_a3385_row2_col2\" class=\"data row2 col2\" >30-Oct-1995</td>\n",
              "      <td id=\"T_a3385_row2_col3\" class=\"data row2 col3\" >nan</td>\n",
              "      <td id=\"T_a3385_row2_col4\" class=\"data row2 col4\" >http://us.imdb.com/M/title-exact?Mighty%20Aphrodite%20(1995)</td>\n",
              "    </tr>\n",
              "    <tr>\n",
              "      <th id=\"T_a3385_level0_row3\" class=\"row_heading level0 row3\" >55</th>\n",
              "      <td id=\"T_a3385_row3_col0\" class=\"data row3 col0\" >56</td>\n",
              "      <td id=\"T_a3385_row3_col1\" class=\"data row3 col1\" >Pulp Fiction (1994)</td>\n",
              "      <td id=\"T_a3385_row3_col2\" class=\"data row3 col2\" >01-Jan-1994</td>\n",
              "      <td id=\"T_a3385_row3_col3\" class=\"data row3 col3\" >nan</td>\n",
              "      <td id=\"T_a3385_row3_col4\" class=\"data row3 col4\" >http://us.imdb.com/M/title-exact?Pulp%20Fiction%20(1994)</td>\n",
              "    </tr>\n",
              "    <tr>\n",
              "      <th id=\"T_a3385_level0_row4\" class=\"row_heading level0 row4\" >57</th>\n",
              "      <td id=\"T_a3385_row4_col0\" class=\"data row4 col0\" >58</td>\n",
              "      <td id=\"T_a3385_row4_col1\" class=\"data row4 col1\" >Quiz Show (1994)</td>\n",
              "      <td id=\"T_a3385_row4_col2\" class=\"data row4 col2\" >01-Jan-1994</td>\n",
              "      <td id=\"T_a3385_row4_col3\" class=\"data row4 col3\" >nan</td>\n",
              "      <td id=\"T_a3385_row4_col4\" class=\"data row4 col4\" >http://us.imdb.com/M/title-exact?Quiz%20Show%20(1994)</td>\n",
              "    </tr>\n",
              "    <tr>\n",
              "      <th id=\"T_a3385_level0_row5\" class=\"row_heading level0 row5\" >58</th>\n",
              "      <td id=\"T_a3385_row5_col0\" class=\"data row5 col0\" >59</td>\n",
              "      <td id=\"T_a3385_row5_col1\" class=\"data row5 col1\" >Three Colors: Red (1994)</td>\n",
              "      <td id=\"T_a3385_row5_col2\" class=\"data row5 col2\" >01-Jan-1994</td>\n",
              "      <td id=\"T_a3385_row5_col3\" class=\"data row5 col3\" >nan</td>\n",
              "      <td id=\"T_a3385_row5_col4\" class=\"data row5 col4\" >http://us.imdb.com/M/title-exact?Trzy%20kolory:%20Czerwony%20(1994)</td>\n",
              "    </tr>\n",
              "    <tr>\n",
              "      <th id=\"T_a3385_level0_row6\" class=\"row_heading level0 row6\" >111</th>\n",
              "      <td id=\"T_a3385_row6_col0\" class=\"data row6 col0\" >112</td>\n",
              "      <td id=\"T_a3385_row6_col1\" class=\"data row6 col1\" >Flipper (1996)</td>\n",
              "      <td id=\"T_a3385_row6_col2\" class=\"data row6 col2\" >10-May-1996</td>\n",
              "      <td id=\"T_a3385_row6_col3\" class=\"data row6 col3\" >nan</td>\n",
              "      <td id=\"T_a3385_row6_col4\" class=\"data row6 col4\" >http://us.imdb.com/M/title-exact?Flipper%20(1996)</td>\n",
              "    </tr>\n",
              "    <tr>\n",
              "      <th id=\"T_a3385_level0_row7\" class=\"row_heading level0 row7\" >125</th>\n",
              "      <td id=\"T_a3385_row7_col0\" class=\"data row7 col0\" >126</td>\n",
              "      <td id=\"T_a3385_row7_col1\" class=\"data row7 col1\" >Spitfire Grill, The (1996)</td>\n",
              "      <td id=\"T_a3385_row7_col2\" class=\"data row7 col2\" >06-Sep-1996</td>\n",
              "      <td id=\"T_a3385_row7_col3\" class=\"data row7 col3\" >nan</td>\n",
              "      <td id=\"T_a3385_row7_col4\" class=\"data row7 col4\" >http://us.imdb.com/M/title-exact?Spitfire%20Grill,%20The%20(1996)</td>\n",
              "    </tr>\n",
              "    <tr>\n",
              "      <th id=\"T_a3385_level0_row8\" class=\"row_heading level0 row8\" >135</th>\n",
              "      <td id=\"T_a3385_row8_col0\" class=\"data row8 col0\" >136</td>\n",
              "      <td id=\"T_a3385_row8_col1\" class=\"data row8 col1\" >Mr. Smith Goes to Washington (1939)</td>\n",
              "      <td id=\"T_a3385_row8_col2\" class=\"data row8 col2\" >01-Jan-1939</td>\n",
              "      <td id=\"T_a3385_row8_col3\" class=\"data row8 col3\" >nan</td>\n",
              "      <td id=\"T_a3385_row8_col4\" class=\"data row8 col4\" >http://us.imdb.com/M/title-exact?Mr.%20Smith%20Goes%20to%20Washington%20(1939)</td>\n",
              "    </tr>\n",
              "    <tr>\n",
              "      <th id=\"T_a3385_level0_row9\" class=\"row_heading level0 row9\" >168</th>\n",
              "      <td id=\"T_a3385_row9_col0\" class=\"data row9 col0\" >169</td>\n",
              "      <td id=\"T_a3385_row9_col1\" class=\"data row9 col1\" >Wrong Trousers, The (1993)</td>\n",
              "      <td id=\"T_a3385_row9_col2\" class=\"data row9 col2\" >01-Jan-1993</td>\n",
              "      <td id=\"T_a3385_row9_col3\" class=\"data row9 col3\" >nan</td>\n",
              "      <td id=\"T_a3385_row9_col4\" class=\"data row9 col4\" >http://us.imdb.com/M/title-exact?Wrong%20Trousers,%20The%20(1993)</td>\n",
              "    </tr>\n",
              "  </tbody>\n",
              "</table>\n"
            ]
          },
          "metadata": {},
          "execution_count": 37
        }
      ]
    }
  ]
}